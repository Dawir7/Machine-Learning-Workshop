{
 "cells": [
  {
   "cell_type": "markdown",
   "metadata": {},
   "source": [
    "# List 1 of Machine Learning Course"
   ]
  },
  {
   "cell_type": "markdown",
   "metadata": {},
   "source": [
    "## Introduction\n",
    "\n",
    "This notebook is part of the Machine Learning course and aims to build a classification or clustering model using the Polish companies bankruptcy dataset. The notebook covers various steps including data loading, cleaning, standardization, outlier detection, and dimensionality reduction. Different methods such as Z-score, Isolation Forest, PCA, and LLE are applied to preprocess the data. Finally, a RandomForest classifier is trained and evaluated using different preprocessing techniques to compare their effectiveness.\n",
    "\n",
    "**The goal** of the task is to build a classification or clustering model. In order to achieve this, it is necessary to carefully study the content of the collection, process it and analyse it for use in modelling.\n",
    "\n",
    "Dataset: [Polish companies bankruptcy](https://archive.ics.uci.edu/ml/datasets/Polish+companies+bankruptcy+data)"
   ]
  },
  {
   "cell_type": "markdown",
   "metadata": {},
   "source": [
    "**Additional teaching materials:**\n",
    "\n",
    "1. Outliers detection:\n",
    "   1. Z-Score\n",
    "   2. Isolation Forest\n",
    "       - https://dataheroes.ai/blog/outlier-detection-methods-every-data-enthusiast-must-know/\n",
    "       - https://scikit-learn.org/stable/modules/generated/sklearn.ensemble.IsolationForest.html#sklearn.ensemble.IsolationForest\n",
    "2. Dimensionality reduction method LEE (Local Linear Embedding):\n",
    "   - https://medium.com/analytics-vidhya/locally-linear-embedding-lle-data-mining-b956616d24e9\n",
    "   - https://scikit-learn.org/stable/modules/generated/sklearn.manifold.LocallyLinearEmbedding.html\n",
    "3. Random Forest Classifier:\n",
    "      - https://www.ibm.com/topics/random-forest,\n",
    "      - https://scikit-learn.org/stable/modules/generated/sklearn.ensemble.RandomForestClassifier.html#sklearn.ensemble.RandomForestClassifier\n",
    "4. Metrics - MCC and confusion matrix:\n",
    "      - https://scikit-learn.org/stable/modules/generated/sklearn.metrics.confusion_matrix.html\n",
    "      - https://scikit-learn.org/stable/modules/generated/sklearn.metrics.matthews_corrcoef.html#sklearn.metrics.matthews_corrcoef"
   ]
  },
  {
   "cell_type": "markdown",
   "metadata": {},
   "source": [
    "## Imports"
   ]
  },
  {
   "cell_type": "code",
   "execution_count": 1,
   "metadata": {},
   "outputs": [],
   "source": [
    "from scipy.io import arff\n",
    "\n",
    "import pandas as pd\n",
    "import numpy as np\n",
    "import matplotlib.pyplot as plt\n",
    "\n",
    "from sklearn.preprocessing import StandardScaler\n",
    "from sklearn.decomposition import PCA\n",
    "from sklearn.manifold import LocallyLinearEmbedding\n",
    "import seaborn as sns\n",
    "\n",
    "from scipy.stats import zscore\n",
    "from sklearn.model_selection import train_test_split\n",
    "from sklearn.ensemble import IsolationForest, RandomForestClassifier\n",
    "from sklearn.metrics import accuracy_score, confusion_matrix, ConfusionMatrixDisplay, matthews_corrcoef"
   ]
  },
  {
   "cell_type": "markdown",
   "metadata": {},
   "source": [
    "## Data Loading"
   ]
  },
  {
   "cell_type": "code",
   "execution_count": 2,
   "metadata": {},
   "outputs": [
    {
     "data": {
      "text/plain": [
       "(10173, 65)"
      ]
     },
     "metadata": {},
     "output_type": "display_data"
    },
    {
     "data": {
      "text/html": [
       "<div>\n",
       "<style scoped>\n",
       "    .dataframe tbody tr th:only-of-type {\n",
       "        vertical-align: middle;\n",
       "    }\n",
       "\n",
       "    .dataframe tbody tr th {\n",
       "        vertical-align: top;\n",
       "    }\n",
       "\n",
       "    .dataframe thead th {\n",
       "        text-align: right;\n",
       "    }\n",
       "</style>\n",
       "<table border=\"1\" class=\"dataframe\">\n",
       "  <thead>\n",
       "    <tr style=\"text-align: right;\">\n",
       "      <th></th>\n",
       "      <th>Attr1</th>\n",
       "      <th>Attr2</th>\n",
       "      <th>Attr3</th>\n",
       "      <th>Attr4</th>\n",
       "      <th>Attr5</th>\n",
       "      <th>Attr6</th>\n",
       "      <th>Attr7</th>\n",
       "      <th>Attr8</th>\n",
       "      <th>Attr9</th>\n",
       "      <th>Attr10</th>\n",
       "      <th>...</th>\n",
       "      <th>Attr56</th>\n",
       "      <th>Attr57</th>\n",
       "      <th>Attr58</th>\n",
       "      <th>Attr59</th>\n",
       "      <th>Attr60</th>\n",
       "      <th>Attr61</th>\n",
       "      <th>Attr62</th>\n",
       "      <th>Attr63</th>\n",
       "      <th>Attr64</th>\n",
       "      <th>class</th>\n",
       "    </tr>\n",
       "  </thead>\n",
       "  <tbody>\n",
       "    <tr>\n",
       "      <th>0</th>\n",
       "      <td>0.202350</td>\n",
       "      <td>0.46500</td>\n",
       "      <td>0.240380</td>\n",
       "      <td>1.5171</td>\n",
       "      <td>-14.547</td>\n",
       "      <td>0.510690</td>\n",
       "      <td>0.25366</td>\n",
       "      <td>0.91816</td>\n",
       "      <td>1.15190</td>\n",
       "      <td>0.42695</td>\n",
       "      <td>...</td>\n",
       "      <td>0.13184</td>\n",
       "      <td>0.473950</td>\n",
       "      <td>0.86816</td>\n",
       "      <td>0.00024</td>\n",
       "      <td>8.5487</td>\n",
       "      <td>5.16550</td>\n",
       "      <td>107.740</td>\n",
       "      <td>3.38790</td>\n",
       "      <td>5.3440</td>\n",
       "      <td>b'0'</td>\n",
       "    </tr>\n",
       "    <tr>\n",
       "      <th>1</th>\n",
       "      <td>0.030073</td>\n",
       "      <td>0.59563</td>\n",
       "      <td>0.186680</td>\n",
       "      <td>1.3382</td>\n",
       "      <td>-37.859</td>\n",
       "      <td>-0.000319</td>\n",
       "      <td>0.04167</td>\n",
       "      <td>0.67890</td>\n",
       "      <td>0.32356</td>\n",
       "      <td>0.40437</td>\n",
       "      <td>...</td>\n",
       "      <td>0.12146</td>\n",
       "      <td>0.074369</td>\n",
       "      <td>0.87235</td>\n",
       "      <td>0.00000</td>\n",
       "      <td>1.5264</td>\n",
       "      <td>0.63305</td>\n",
       "      <td>622.660</td>\n",
       "      <td>0.58619</td>\n",
       "      <td>1.2381</td>\n",
       "      <td>b'0'</td>\n",
       "    </tr>\n",
       "    <tr>\n",
       "      <th>2</th>\n",
       "      <td>0.257860</td>\n",
       "      <td>0.29949</td>\n",
       "      <td>0.665190</td>\n",
       "      <td>3.2211</td>\n",
       "      <td>71.799</td>\n",
       "      <td>0.000000</td>\n",
       "      <td>0.31877</td>\n",
       "      <td>2.33200</td>\n",
       "      <td>1.67620</td>\n",
       "      <td>0.69841</td>\n",
       "      <td>...</td>\n",
       "      <td>0.16499</td>\n",
       "      <td>0.369210</td>\n",
       "      <td>0.81614</td>\n",
       "      <td>0.00000</td>\n",
       "      <td>4.3325</td>\n",
       "      <td>3.19850</td>\n",
       "      <td>65.215</td>\n",
       "      <td>5.59690</td>\n",
       "      <td>47.4660</td>\n",
       "      <td>b'0'</td>\n",
       "    </tr>\n",
       "    <tr>\n",
       "      <th>3</th>\n",
       "      <td>0.227160</td>\n",
       "      <td>0.67850</td>\n",
       "      <td>0.042784</td>\n",
       "      <td>1.0828</td>\n",
       "      <td>-88.212</td>\n",
       "      <td>0.000000</td>\n",
       "      <td>0.28505</td>\n",
       "      <td>0.47384</td>\n",
       "      <td>1.32410</td>\n",
       "      <td>0.32150</td>\n",
       "      <td>...</td>\n",
       "      <td>0.29358</td>\n",
       "      <td>0.706570</td>\n",
       "      <td>0.78617</td>\n",
       "      <td>0.48456</td>\n",
       "      <td>5.2309</td>\n",
       "      <td>5.06750</td>\n",
       "      <td>142.460</td>\n",
       "      <td>2.56210</td>\n",
       "      <td>3.0066</td>\n",
       "      <td>b'0'</td>\n",
       "    </tr>\n",
       "    <tr>\n",
       "      <th>4</th>\n",
       "      <td>0.085443</td>\n",
       "      <td>0.38039</td>\n",
       "      <td>0.359230</td>\n",
       "      <td>1.9444</td>\n",
       "      <td>21.731</td>\n",
       "      <td>0.187900</td>\n",
       "      <td>0.10823</td>\n",
       "      <td>1.37140</td>\n",
       "      <td>1.11260</td>\n",
       "      <td>0.52167</td>\n",
       "      <td>...</td>\n",
       "      <td>0.10124</td>\n",
       "      <td>0.163790</td>\n",
       "      <td>0.89876</td>\n",
       "      <td>0.00000</td>\n",
       "      <td>5.7035</td>\n",
       "      <td>4.00200</td>\n",
       "      <td>89.058</td>\n",
       "      <td>4.09840</td>\n",
       "      <td>5.9874</td>\n",
       "      <td>b'0'</td>\n",
       "    </tr>\n",
       "  </tbody>\n",
       "</table>\n",
       "<p>5 rows × 65 columns</p>\n",
       "</div>"
      ],
      "text/plain": [
       "      Attr1    Attr2     Attr3   Attr4   Attr5     Attr6    Attr7    Attr8  \\\n",
       "0  0.202350  0.46500  0.240380  1.5171 -14.547  0.510690  0.25366  0.91816   \n",
       "1  0.030073  0.59563  0.186680  1.3382 -37.859 -0.000319  0.04167  0.67890   \n",
       "2  0.257860  0.29949  0.665190  3.2211  71.799  0.000000  0.31877  2.33200   \n",
       "3  0.227160  0.67850  0.042784  1.0828 -88.212  0.000000  0.28505  0.47384   \n",
       "4  0.085443  0.38039  0.359230  1.9444  21.731  0.187900  0.10823  1.37140   \n",
       "\n",
       "     Attr9   Attr10  ...   Attr56    Attr57   Attr58   Attr59  Attr60  \\\n",
       "0  1.15190  0.42695  ...  0.13184  0.473950  0.86816  0.00024  8.5487   \n",
       "1  0.32356  0.40437  ...  0.12146  0.074369  0.87235  0.00000  1.5264   \n",
       "2  1.67620  0.69841  ...  0.16499  0.369210  0.81614  0.00000  4.3325   \n",
       "3  1.32410  0.32150  ...  0.29358  0.706570  0.78617  0.48456  5.2309   \n",
       "4  1.11260  0.52167  ...  0.10124  0.163790  0.89876  0.00000  5.7035   \n",
       "\n",
       "    Attr61   Attr62   Attr63   Attr64  class  \n",
       "0  5.16550  107.740  3.38790   5.3440   b'0'  \n",
       "1  0.63305  622.660  0.58619   1.2381   b'0'  \n",
       "2  3.19850   65.215  5.59690  47.4660   b'0'  \n",
       "3  5.06750  142.460  2.56210   3.0066   b'0'  \n",
       "4  4.00200   89.058  4.09840   5.9874   b'0'  \n",
       "\n",
       "[5 rows x 65 columns]"
      ]
     },
     "execution_count": 2,
     "metadata": {},
     "output_type": "execute_result"
    }
   ],
   "source": [
    "file = '2year.arff'\n",
    "data, info = arff.loadarff(file)\n",
    "data_df = pd.DataFrame(data)\n",
    "display(data_df.shape)\n",
    "data_df.head()"
   ]
  },
  {
   "cell_type": "code",
   "execution_count": 3,
   "metadata": {},
   "outputs": [
    {
     "name": "stdout",
     "output_type": "stream",
     "text": [
      "<class 'pandas.core.frame.DataFrame'>\n",
      "RangeIndex: 10173 entries, 0 to 10172\n",
      "Data columns (total 65 columns):\n",
      " #   Column  Non-Null Count  Dtype  \n",
      "---  ------  --------------  -----  \n",
      " 0   Attr1   10172 non-null  float64\n",
      " 1   Attr2   10172 non-null  float64\n",
      " 2   Attr3   10172 non-null  float64\n",
      " 3   Attr4   10151 non-null  float64\n",
      " 4   Attr5   10149 non-null  float64\n",
      " 5   Attr6   10172 non-null  float64\n",
      " 6   Attr7   10172 non-null  float64\n",
      " 7   Attr8   10155 non-null  float64\n",
      " 8   Attr9   10169 non-null  float64\n",
      " 9   Attr10  10172 non-null  float64\n",
      " 10  Attr11  10172 non-null  float64\n",
      " 11  Attr12  10151 non-null  float64\n",
      " 12  Attr13  10110 non-null  float64\n",
      " 13  Attr14  10172 non-null  float64\n",
      " 14  Attr15  10161 non-null  float64\n",
      " 15  Attr16  10154 non-null  float64\n",
      " 16  Attr17  10155 non-null  float64\n",
      " 17  Attr18  10172 non-null  float64\n",
      " 18  Attr19  10109 non-null  float64\n",
      " 19  Attr20  10110 non-null  float64\n",
      " 20  Attr21  7009 non-null   float64\n",
      " 21  Attr22  10172 non-null  float64\n",
      " 22  Attr23  10110 non-null  float64\n",
      " 23  Attr24  9948 non-null   float64\n",
      " 24  Attr25  10172 non-null  float64\n",
      " 25  Attr26  10154 non-null  float64\n",
      " 26  Attr27  9467 non-null   float64\n",
      " 27  Attr28  9961 non-null   float64\n",
      " 28  Attr29  10172 non-null  float64\n",
      " 29  Attr30  10110 non-null  float64\n",
      " 30  Attr31  10110 non-null  float64\n",
      " 31  Attr32  10086 non-null  float64\n",
      " 32  Attr33  10151 non-null  float64\n",
      " 33  Attr34  10155 non-null  float64\n",
      " 34  Attr35  10172 non-null  float64\n",
      " 35  Attr36  10172 non-null  float64\n",
      " 36  Attr37  5655 non-null   float64\n",
      " 37  Attr38  10172 non-null  float64\n",
      " 38  Attr39  10110 non-null  float64\n",
      " 39  Attr40  10151 non-null  float64\n",
      " 40  Attr41  9976 non-null   float64\n",
      " 41  Attr42  10110 non-null  float64\n",
      " 42  Attr43  10110 non-null  float64\n",
      " 43  Attr44  10110 non-null  float64\n",
      " 44  Attr45  9632 non-null   float64\n",
      " 45  Attr46  10151 non-null  float64\n",
      " 46  Attr47  10099 non-null  float64\n",
      " 47  Attr48  10171 non-null  float64\n",
      " 48  Attr49  10110 non-null  float64\n",
      " 49  Attr50  10155 non-null  float64\n",
      " 50  Attr51  10172 non-null  float64\n",
      " 51  Attr52  10099 non-null  float64\n",
      " 52  Attr53  9961 non-null   float64\n",
      " 53  Attr54  9961 non-null   float64\n",
      " 54  Attr55  10172 non-null  float64\n",
      " 55  Attr56  10110 non-null  float64\n",
      " 56  Attr57  10171 non-null  float64\n",
      " 57  Attr58  10134 non-null  float64\n",
      " 58  Attr59  10171 non-null  float64\n",
      " 59  Attr60  9630 non-null   float64\n",
      " 60  Attr61  10157 non-null  float64\n",
      " 61  Attr62  10110 non-null  float64\n",
      " 62  Attr63  10151 non-null  float64\n",
      " 63  Attr64  9961 non-null   float64\n",
      " 64  class   10173 non-null  object \n",
      "dtypes: float64(64), object(1)\n",
      "memory usage: 5.0+ MB\n"
     ]
    }
   ],
   "source": [
    "data_df.info()"
   ]
  },
  {
   "cell_type": "code",
   "execution_count": 4,
   "metadata": {},
   "outputs": [
    {
     "data": {
      "text/html": [
       "<div>\n",
       "<style scoped>\n",
       "    .dataframe tbody tr th:only-of-type {\n",
       "        vertical-align: middle;\n",
       "    }\n",
       "\n",
       "    .dataframe tbody tr th {\n",
       "        vertical-align: top;\n",
       "    }\n",
       "\n",
       "    .dataframe thead th {\n",
       "        text-align: right;\n",
       "    }\n",
       "</style>\n",
       "<table border=\"1\" class=\"dataframe\">\n",
       "  <thead>\n",
       "    <tr style=\"text-align: right;\">\n",
       "      <th></th>\n",
       "      <th>Attr1</th>\n",
       "      <th>Attr2</th>\n",
       "      <th>Attr3</th>\n",
       "      <th>Attr4</th>\n",
       "      <th>Attr5</th>\n",
       "      <th>Attr6</th>\n",
       "      <th>Attr7</th>\n",
       "      <th>Attr8</th>\n",
       "      <th>Attr9</th>\n",
       "      <th>Attr10</th>\n",
       "      <th>...</th>\n",
       "      <th>Attr55</th>\n",
       "      <th>Attr56</th>\n",
       "      <th>Attr57</th>\n",
       "      <th>Attr58</th>\n",
       "      <th>Attr59</th>\n",
       "      <th>Attr60</th>\n",
       "      <th>Attr61</th>\n",
       "      <th>Attr62</th>\n",
       "      <th>Attr63</th>\n",
       "      <th>Attr64</th>\n",
       "    </tr>\n",
       "  </thead>\n",
       "  <tbody>\n",
       "    <tr>\n",
       "      <th>count</th>\n",
       "      <td>10172.000000</td>\n",
       "      <td>10172.000000</td>\n",
       "      <td>10172.000000</td>\n",
       "      <td>10151.000000</td>\n",
       "      <td>10149.000000</td>\n",
       "      <td>10172.000000</td>\n",
       "      <td>10172.000000</td>\n",
       "      <td>10155.000000</td>\n",
       "      <td>10169.000000</td>\n",
       "      <td>10172.000000</td>\n",
       "      <td>...</td>\n",
       "      <td>1.017200e+04</td>\n",
       "      <td>10110.000000</td>\n",
       "      <td>10171.000000</td>\n",
       "      <td>10134.000000</td>\n",
       "      <td>10171.000000</td>\n",
       "      <td>9630.000000</td>\n",
       "      <td>10157.000000</td>\n",
       "      <td>1.011000e+04</td>\n",
       "      <td>10151.000000</td>\n",
       "      <td>9961.000000</td>\n",
       "    </tr>\n",
       "    <tr>\n",
       "      <th>mean</th>\n",
       "      <td>0.043074</td>\n",
       "      <td>0.646960</td>\n",
       "      <td>0.070861</td>\n",
       "      <td>4.144058</td>\n",
       "      <td>-144.830797</td>\n",
       "      <td>-0.111564</td>\n",
       "      <td>0.122101</td>\n",
       "      <td>9.868798</td>\n",
       "      <td>2.867541</td>\n",
       "      <td>0.344341</td>\n",
       "      <td>...</td>\n",
       "      <td>6.080925e+03</td>\n",
       "      <td>-1.128949</td>\n",
       "      <td>-0.043519</td>\n",
       "      <td>12.656337</td>\n",
       "      <td>3.034738</td>\n",
       "      <td>375.332514</td>\n",
       "      <td>16.884020</td>\n",
       "      <td>8.910799e+02</td>\n",
       "      <td>11.217653</td>\n",
       "      <td>55.275877</td>\n",
       "    </tr>\n",
       "    <tr>\n",
       "      <th>std</th>\n",
       "      <td>1.112028</td>\n",
       "      <td>6.615405</td>\n",
       "      <td>6.606495</td>\n",
       "      <td>51.715242</td>\n",
       "      <td>7811.976260</td>\n",
       "      <td>6.568088</td>\n",
       "      <td>6.532490</td>\n",
       "      <td>288.386870</td>\n",
       "      <td>96.674595</td>\n",
       "      <td>6.655844</td>\n",
       "      <td>...</td>\n",
       "      <td>6.598007e+04</td>\n",
       "      <td>86.502920</td>\n",
       "      <td>12.251651</td>\n",
       "      <td>632.937400</td>\n",
       "      <td>238.185655</td>\n",
       "      <td>12294.315980</td>\n",
       "      <td>295.762312</td>\n",
       "      <td>4.366133e+04</td>\n",
       "      <td>233.919213</td>\n",
       "      <td>1526.588333</td>\n",
       "    </tr>\n",
       "    <tr>\n",
       "      <th>min</th>\n",
       "      <td>-75.331000</td>\n",
       "      <td>0.000000</td>\n",
       "      <td>-479.960000</td>\n",
       "      <td>0.002079</td>\n",
       "      <td>-438250.000000</td>\n",
       "      <td>-508.410000</td>\n",
       "      <td>-75.331000</td>\n",
       "      <td>-1.594500</td>\n",
       "      <td>-0.612590</td>\n",
       "      <td>-479.910000</td>\n",
       "      <td>...</td>\n",
       "      <td>-1.805200e+06</td>\n",
       "      <td>-8534.600000</td>\n",
       "      <td>-979.250000</td>\n",
       "      <td>-4.549700</td>\n",
       "      <td>-189.580000</td>\n",
       "      <td>0.000000</td>\n",
       "      <td>-0.007521</td>\n",
       "      <td>-9.921400e+02</td>\n",
       "      <td>-0.367890</td>\n",
       "      <td>-10677.000000</td>\n",
       "    </tr>\n",
       "    <tr>\n",
       "      <th>25%</th>\n",
       "      <td>0.000364</td>\n",
       "      <td>0.277695</td>\n",
       "      <td>0.012114</td>\n",
       "      <td>1.029200</td>\n",
       "      <td>-50.131000</td>\n",
       "      <td>0.000000</td>\n",
       "      <td>0.001975</td>\n",
       "      <td>0.393635</td>\n",
       "      <td>1.026300</td>\n",
       "      <td>0.277365</td>\n",
       "      <td>...</td>\n",
       "      <td>5.699975e+00</td>\n",
       "      <td>0.010381</td>\n",
       "      <td>0.009959</td>\n",
       "      <td>0.872130</td>\n",
       "      <td>0.000000</td>\n",
       "      <td>5.684275</td>\n",
       "      <td>4.695300</td>\n",
       "      <td>4.028225e+01</td>\n",
       "      <td>3.102200</td>\n",
       "      <td>2.310900</td>\n",
       "    </tr>\n",
       "    <tr>\n",
       "      <th>50%</th>\n",
       "      <td>0.049493</td>\n",
       "      <td>0.487335</td>\n",
       "      <td>0.189695</td>\n",
       "      <td>1.524400</td>\n",
       "      <td>-1.907500</td>\n",
       "      <td>0.000000</td>\n",
       "      <td>0.060057</td>\n",
       "      <td>1.005400</td>\n",
       "      <td>1.285700</td>\n",
       "      <td>0.490925</td>\n",
       "      <td>...</td>\n",
       "      <td>8.326700e+02</td>\n",
       "      <td>0.055013</td>\n",
       "      <td>0.126210</td>\n",
       "      <td>0.949715</td>\n",
       "      <td>0.004849</td>\n",
       "      <td>10.353500</td>\n",
       "      <td>6.988600</td>\n",
       "      <td>6.964550e+01</td>\n",
       "      <td>5.198900</td>\n",
       "      <td>4.536000</td>\n",
       "    </tr>\n",
       "    <tr>\n",
       "      <th>75%</th>\n",
       "      <td>0.141105</td>\n",
       "      <td>0.705040</td>\n",
       "      <td>0.400400</td>\n",
       "      <td>2.741100</td>\n",
       "      <td>51.443000</td>\n",
       "      <td>0.074739</td>\n",
       "      <td>0.165865</td>\n",
       "      <td>2.518850</td>\n",
       "      <td>2.256600</td>\n",
       "      <td>0.703280</td>\n",
       "      <td>...</td>\n",
       "      <td>4.020250e+03</td>\n",
       "      <td>0.134068</td>\n",
       "      <td>0.309135</td>\n",
       "      <td>0.993390</td>\n",
       "      <td>0.249240</td>\n",
       "      <td>22.163500</td>\n",
       "      <td>11.073000</td>\n",
       "      <td>1.163200e+02</td>\n",
       "      <td>9.012550</td>\n",
       "      <td>10.604000</td>\n",
       "    </tr>\n",
       "    <tr>\n",
       "      <th>max</th>\n",
       "      <td>7.372700</td>\n",
       "      <td>480.960000</td>\n",
       "      <td>5.502200</td>\n",
       "      <td>4881.600000</td>\n",
       "      <td>70686.000000</td>\n",
       "      <td>35.551000</td>\n",
       "      <td>649.230000</td>\n",
       "      <td>18554.000000</td>\n",
       "      <td>9742.300000</td>\n",
       "      <td>74.434000</td>\n",
       "      <td>...</td>\n",
       "      <td>3.657400e+06</td>\n",
       "      <td>20.200000</td>\n",
       "      <td>147.190000</td>\n",
       "      <td>59672.000000</td>\n",
       "      <td>23853.000000</td>\n",
       "      <td>639940.000000</td>\n",
       "      <td>26862.000000</td>\n",
       "      <td>4.144800e+06</td>\n",
       "      <td>23454.000000</td>\n",
       "      <td>127680.000000</td>\n",
       "    </tr>\n",
       "  </tbody>\n",
       "</table>\n",
       "<p>8 rows × 64 columns</p>\n",
       "</div>"
      ],
      "text/plain": [
       "              Attr1         Attr2         Attr3         Attr4          Attr5  \\\n",
       "count  10172.000000  10172.000000  10172.000000  10151.000000   10149.000000   \n",
       "mean       0.043074      0.646960      0.070861      4.144058    -144.830797   \n",
       "std        1.112028      6.615405      6.606495     51.715242    7811.976260   \n",
       "min      -75.331000      0.000000   -479.960000      0.002079 -438250.000000   \n",
       "25%        0.000364      0.277695      0.012114      1.029200     -50.131000   \n",
       "50%        0.049493      0.487335      0.189695      1.524400      -1.907500   \n",
       "75%        0.141105      0.705040      0.400400      2.741100      51.443000   \n",
       "max        7.372700    480.960000      5.502200   4881.600000   70686.000000   \n",
       "\n",
       "              Attr6         Attr7         Attr8         Attr9        Attr10  \\\n",
       "count  10172.000000  10172.000000  10155.000000  10169.000000  10172.000000   \n",
       "mean      -0.111564      0.122101      9.868798      2.867541      0.344341   \n",
       "std        6.568088      6.532490    288.386870     96.674595      6.655844   \n",
       "min     -508.410000    -75.331000     -1.594500     -0.612590   -479.910000   \n",
       "25%        0.000000      0.001975      0.393635      1.026300      0.277365   \n",
       "50%        0.000000      0.060057      1.005400      1.285700      0.490925   \n",
       "75%        0.074739      0.165865      2.518850      2.256600      0.703280   \n",
       "max       35.551000    649.230000  18554.000000   9742.300000     74.434000   \n",
       "\n",
       "       ...        Attr55        Attr56        Attr57        Attr58  \\\n",
       "count  ...  1.017200e+04  10110.000000  10171.000000  10134.000000   \n",
       "mean   ...  6.080925e+03     -1.128949     -0.043519     12.656337   \n",
       "std    ...  6.598007e+04     86.502920     12.251651    632.937400   \n",
       "min    ... -1.805200e+06  -8534.600000   -979.250000     -4.549700   \n",
       "25%    ...  5.699975e+00      0.010381      0.009959      0.872130   \n",
       "50%    ...  8.326700e+02      0.055013      0.126210      0.949715   \n",
       "75%    ...  4.020250e+03      0.134068      0.309135      0.993390   \n",
       "max    ...  3.657400e+06     20.200000    147.190000  59672.000000   \n",
       "\n",
       "             Attr59         Attr60        Attr61        Attr62        Attr63  \\\n",
       "count  10171.000000    9630.000000  10157.000000  1.011000e+04  10151.000000   \n",
       "mean       3.034738     375.332514     16.884020  8.910799e+02     11.217653   \n",
       "std      238.185655   12294.315980    295.762312  4.366133e+04    233.919213   \n",
       "min     -189.580000       0.000000     -0.007521 -9.921400e+02     -0.367890   \n",
       "25%        0.000000       5.684275      4.695300  4.028225e+01      3.102200   \n",
       "50%        0.004849      10.353500      6.988600  6.964550e+01      5.198900   \n",
       "75%        0.249240      22.163500     11.073000  1.163200e+02      9.012550   \n",
       "max    23853.000000  639940.000000  26862.000000  4.144800e+06  23454.000000   \n",
       "\n",
       "              Attr64  \n",
       "count    9961.000000  \n",
       "mean       55.275877  \n",
       "std      1526.588333  \n",
       "min    -10677.000000  \n",
       "25%         2.310900  \n",
       "50%         4.536000  \n",
       "75%        10.604000  \n",
       "max    127680.000000  \n",
       "\n",
       "[8 rows x 64 columns]"
      ]
     },
     "execution_count": 4,
     "metadata": {},
     "output_type": "execute_result"
    }
   ],
   "source": [
    "data_df.describe()"
   ]
  },
  {
   "cell_type": "code",
   "execution_count": 5,
   "metadata": {},
   "outputs": [
    {
     "data": {
      "text/plain": [
       "class\n",
       "b'0'    9773\n",
       "b'1'     400\n",
       "Name: count, dtype: int64"
      ]
     },
     "execution_count": 5,
     "metadata": {},
     "output_type": "execute_result"
    }
   ],
   "source": [
    "data_df['class'].value_counts()"
   ]
  },
  {
   "cell_type": "markdown",
   "metadata": {},
   "source": [
    "## Data cleaning"
   ]
  },
  {
   "cell_type": "markdown",
   "metadata": {},
   "source": [
    "### Null cleaning"
   ]
  },
  {
   "cell_type": "code",
   "execution_count": 6,
   "metadata": {},
   "outputs": [
    {
     "data": {
      "text/plain": [
       "Attr1       1\n",
       "Attr2       1\n",
       "Attr3       1\n",
       "Attr4      22\n",
       "Attr5      24\n",
       "         ... \n",
       "Attr61     16\n",
       "Attr62     63\n",
       "Attr63     22\n",
       "Attr64    212\n",
       "class       0\n",
       "Length: 65, dtype: int64"
      ]
     },
     "execution_count": 6,
     "metadata": {},
     "output_type": "execute_result"
    }
   ],
   "source": [
    "data_df.isnull().sum()"
   ]
  },
  {
   "cell_type": "code",
   "execution_count": 7,
   "metadata": {},
   "outputs": [
    {
     "data": {
      "text/plain": [
       "Attr37    4518\n",
       "Attr21    3164\n",
       "Attr27     706\n",
       "Attr60     543\n",
       "Attr45     541\n",
       "Attr24     225\n",
       "Attr28     212\n",
       "Attr53     212\n",
       "Attr54     212\n",
       "Attr64     212\n",
       "dtype: int64"
      ]
     },
     "execution_count": 7,
     "metadata": {},
     "output_type": "execute_result"
    }
   ],
   "source": [
    "data_df.isnull().sum().nlargest(10)"
   ]
  },
  {
   "cell_type": "code",
   "execution_count": 8,
   "metadata": {},
   "outputs": [
    {
     "data": {
      "text/plain": [
       "Attr1     9669\n",
       "Attr2     9528\n",
       "Attr3     9641\n",
       "Attr4     9075\n",
       "Attr5     9853\n",
       "          ... \n",
       "Attr61    9420\n",
       "Attr62    9359\n",
       "Attr63    9432\n",
       "Attr64    9361\n",
       "class        2\n",
       "Length: 65, dtype: int64"
      ]
     },
     "execution_count": 8,
     "metadata": {},
     "output_type": "execute_result"
    }
   ],
   "source": [
    "data_df.nunique()"
   ]
  },
  {
   "cell_type": "code",
   "execution_count": 9,
   "metadata": {},
   "outputs": [
    {
     "data": {
      "text/plain": [
       "<Axes: >"
      ]
     },
     "execution_count": 9,
     "metadata": {},
     "output_type": "execute_result"
    },
    {
     "data": {
      "image/png": "[encoded data removed]",
      "text/plain": [
       "<Figure size 640x480 with 1 Axes>"
      ]
     },
     "metadata": {},
     "output_type": "display_data"
    }
   ],
   "source": [
    "data_df.isnull().sum(axis=1).hist(bins=range(3, 10))"
   ]
  },
  {
   "cell_type": "markdown",
   "metadata": {},
   "source": [
    "In the graph above, it can be seen that the rows with more than 6 missing rows are relatively few compared to the total data in the set. The limit of these 10% missing was considered sufficient to consider the data as ‘uncomfortable’."
   ]
  },
  {
   "cell_type": "code",
   "execution_count": 10,
   "metadata": {},
   "outputs": [
    {
     "data": {
      "text/plain": [
       "269"
      ]
     },
     "execution_count": 10,
     "metadata": {},
     "output_type": "execute_result"
    }
   ],
   "source": [
    "(data_df.isnull().sum(axis=1) >= 6).sum()"
   ]
  },
  {
   "cell_type": "code",
   "execution_count": 11,
   "metadata": {},
   "outputs": [
    {
     "data": {
      "text/plain": [
       "7356    36\n",
       "4569    35\n",
       "7271    35\n",
       "7325    35\n",
       "9228    35\n",
       "4200    33\n",
       "8504    33\n",
       "1832    30\n",
       "2583    28\n",
       "7979    25\n",
       "dtype: int64"
      ]
     },
     "execution_count": 11,
     "metadata": {},
     "output_type": "execute_result"
    }
   ],
   "source": [
    "data_df.isnull().sum(axis=1).nlargest(10)"
   ]
  },
  {
   "cell_type": "code",
   "execution_count": 12,
   "metadata": {},
   "outputs": [
    {
     "data": {
      "text/html": [
       "<div>\n",
       "<style scoped>\n",
       "    .dataframe tbody tr th:only-of-type {\n",
       "        vertical-align: middle;\n",
       "    }\n",
       "\n",
       "    .dataframe tbody tr th {\n",
       "        vertical-align: top;\n",
       "    }\n",
       "\n",
       "    .dataframe thead th {\n",
       "        text-align: right;\n",
       "    }\n",
       "</style>\n",
       "<table border=\"1\" class=\"dataframe\">\n",
       "  <thead>\n",
       "    <tr style=\"text-align: right;\">\n",
       "      <th></th>\n",
       "      <th>Attr1</th>\n",
       "      <th>Attr2</th>\n",
       "      <th>Attr3</th>\n",
       "      <th>Attr4</th>\n",
       "      <th>Attr5</th>\n",
       "      <th>Attr6</th>\n",
       "      <th>Attr7</th>\n",
       "      <th>Attr8</th>\n",
       "      <th>Attr9</th>\n",
       "      <th>Attr10</th>\n",
       "      <th>...</th>\n",
       "      <th>Attr56</th>\n",
       "      <th>Attr57</th>\n",
       "      <th>Attr58</th>\n",
       "      <th>Attr59</th>\n",
       "      <th>Attr60</th>\n",
       "      <th>Attr61</th>\n",
       "      <th>Attr62</th>\n",
       "      <th>Attr63</th>\n",
       "      <th>Attr64</th>\n",
       "      <th>class</th>\n",
       "    </tr>\n",
       "  </thead>\n",
       "  <tbody>\n",
       "    <tr>\n",
       "      <th>0</th>\n",
       "      <td>0.202350</td>\n",
       "      <td>0.46500</td>\n",
       "      <td>0.240380</td>\n",
       "      <td>1.51710</td>\n",
       "      <td>-14.54700</td>\n",
       "      <td>0.510690</td>\n",
       "      <td>0.253660</td>\n",
       "      <td>0.918160</td>\n",
       "      <td>1.15190</td>\n",
       "      <td>0.426950</td>\n",
       "      <td>...</td>\n",
       "      <td>0.131840</td>\n",
       "      <td>0.473950</td>\n",
       "      <td>0.86816</td>\n",
       "      <td>0.000240</td>\n",
       "      <td>8.5487</td>\n",
       "      <td>5.16550</td>\n",
       "      <td>107.740</td>\n",
       "      <td>3.38790</td>\n",
       "      <td>5.3440</td>\n",
       "      <td>b'0'</td>\n",
       "    </tr>\n",
       "    <tr>\n",
       "      <th>1</th>\n",
       "      <td>0.030073</td>\n",
       "      <td>0.59563</td>\n",
       "      <td>0.186680</td>\n",
       "      <td>1.33820</td>\n",
       "      <td>-37.85900</td>\n",
       "      <td>-0.000319</td>\n",
       "      <td>0.041670</td>\n",
       "      <td>0.678900</td>\n",
       "      <td>0.32356</td>\n",
       "      <td>0.404370</td>\n",
       "      <td>...</td>\n",
       "      <td>0.121460</td>\n",
       "      <td>0.074369</td>\n",
       "      <td>0.87235</td>\n",
       "      <td>0.000000</td>\n",
       "      <td>1.5264</td>\n",
       "      <td>0.63305</td>\n",
       "      <td>622.660</td>\n",
       "      <td>0.58619</td>\n",
       "      <td>1.2381</td>\n",
       "      <td>b'0'</td>\n",
       "    </tr>\n",
       "    <tr>\n",
       "      <th>2</th>\n",
       "      <td>0.257860</td>\n",
       "      <td>0.29949</td>\n",
       "      <td>0.665190</td>\n",
       "      <td>3.22110</td>\n",
       "      <td>71.79900</td>\n",
       "      <td>0.000000</td>\n",
       "      <td>0.318770</td>\n",
       "      <td>2.332000</td>\n",
       "      <td>1.67620</td>\n",
       "      <td>0.698410</td>\n",
       "      <td>...</td>\n",
       "      <td>0.164990</td>\n",
       "      <td>0.369210</td>\n",
       "      <td>0.81614</td>\n",
       "      <td>0.000000</td>\n",
       "      <td>4.3325</td>\n",
       "      <td>3.19850</td>\n",
       "      <td>65.215</td>\n",
       "      <td>5.59690</td>\n",
       "      <td>47.4660</td>\n",
       "      <td>b'0'</td>\n",
       "    </tr>\n",
       "    <tr>\n",
       "      <th>3</th>\n",
       "      <td>0.227160</td>\n",
       "      <td>0.67850</td>\n",
       "      <td>0.042784</td>\n",
       "      <td>1.08280</td>\n",
       "      <td>-88.21200</td>\n",
       "      <td>0.000000</td>\n",
       "      <td>0.285050</td>\n",
       "      <td>0.473840</td>\n",
       "      <td>1.32410</td>\n",
       "      <td>0.321500</td>\n",
       "      <td>...</td>\n",
       "      <td>0.293580</td>\n",
       "      <td>0.706570</td>\n",
       "      <td>0.78617</td>\n",
       "      <td>0.484560</td>\n",
       "      <td>5.2309</td>\n",
       "      <td>5.06750</td>\n",
       "      <td>142.460</td>\n",
       "      <td>2.56210</td>\n",
       "      <td>3.0066</td>\n",
       "      <td>b'0'</td>\n",
       "    </tr>\n",
       "    <tr>\n",
       "      <th>4</th>\n",
       "      <td>0.085443</td>\n",
       "      <td>0.38039</td>\n",
       "      <td>0.359230</td>\n",
       "      <td>1.94440</td>\n",
       "      <td>21.73100</td>\n",
       "      <td>0.187900</td>\n",
       "      <td>0.108230</td>\n",
       "      <td>1.371400</td>\n",
       "      <td>1.11260</td>\n",
       "      <td>0.521670</td>\n",
       "      <td>...</td>\n",
       "      <td>0.101240</td>\n",
       "      <td>0.163790</td>\n",
       "      <td>0.89876</td>\n",
       "      <td>0.000000</td>\n",
       "      <td>5.7035</td>\n",
       "      <td>4.00200</td>\n",
       "      <td>89.058</td>\n",
       "      <td>4.09840</td>\n",
       "      <td>5.9874</td>\n",
       "      <td>b'0'</td>\n",
       "    </tr>\n",
       "    <tr>\n",
       "      <th>...</th>\n",
       "      <td>...</td>\n",
       "      <td>...</td>\n",
       "      <td>...</td>\n",
       "      <td>...</td>\n",
       "      <td>...</td>\n",
       "      <td>...</td>\n",
       "      <td>...</td>\n",
       "      <td>...</td>\n",
       "      <td>...</td>\n",
       "      <td>...</td>\n",
       "      <td>...</td>\n",
       "      <td>...</td>\n",
       "      <td>...</td>\n",
       "      <td>...</td>\n",
       "      <td>...</td>\n",
       "      <td>...</td>\n",
       "      <td>...</td>\n",
       "      <td>...</td>\n",
       "      <td>...</td>\n",
       "      <td>...</td>\n",
       "      <td>...</td>\n",
       "    </tr>\n",
       "    <tr>\n",
       "      <th>10168</th>\n",
       "      <td>0.029970</td>\n",
       "      <td>0.66806</td>\n",
       "      <td>0.066243</td>\n",
       "      <td>1.11030</td>\n",
       "      <td>-105.55000</td>\n",
       "      <td>0.029970</td>\n",
       "      <td>0.038888</td>\n",
       "      <td>0.482740</td>\n",
       "      <td>1.02920</td>\n",
       "      <td>0.322500</td>\n",
       "      <td>...</td>\n",
       "      <td>0.028377</td>\n",
       "      <td>0.092931</td>\n",
       "      <td>0.97162</td>\n",
       "      <td>0.209820</td>\n",
       "      <td>3.0914</td>\n",
       "      <td>3.94560</td>\n",
       "      <td>192.220</td>\n",
       "      <td>1.89880</td>\n",
       "      <td>3.4199</td>\n",
       "      <td>b'1'</td>\n",
       "    </tr>\n",
       "    <tr>\n",
       "      <th>10169</th>\n",
       "      <td>0.012843</td>\n",
       "      <td>0.49306</td>\n",
       "      <td>-0.160620</td>\n",
       "      <td>0.61898</td>\n",
       "      <td>-24.80100</td>\n",
       "      <td>0.012843</td>\n",
       "      <td>0.012843</td>\n",
       "      <td>0.905900</td>\n",
       "      <td>1.01450</td>\n",
       "      <td>0.446660</td>\n",
       "      <td>...</td>\n",
       "      <td>0.014247</td>\n",
       "      <td>0.028752</td>\n",
       "      <td>0.98575</td>\n",
       "      <td>0.160090</td>\n",
       "      <td>48.6660</td>\n",
       "      <td>63.75200</td>\n",
       "      <td>40.071</td>\n",
       "      <td>9.10870</td>\n",
       "      <td>5.1956</td>\n",
       "      <td>b'1'</td>\n",
       "    </tr>\n",
       "    <tr>\n",
       "      <th>10170</th>\n",
       "      <td>0.015092</td>\n",
       "      <td>0.55759</td>\n",
       "      <td>-0.284600</td>\n",
       "      <td>0.48599</td>\n",
       "      <td>-85.57100</td>\n",
       "      <td>0.015092</td>\n",
       "      <td>0.009826</td>\n",
       "      <td>0.694880</td>\n",
       "      <td>1.00600</td>\n",
       "      <td>0.387460</td>\n",
       "      <td>...</td>\n",
       "      <td>0.005971</td>\n",
       "      <td>0.038950</td>\n",
       "      <td>0.99403</td>\n",
       "      <td>0.010091</td>\n",
       "      <td>15.0530</td>\n",
       "      <td>11.96400</td>\n",
       "      <td>114.250</td>\n",
       "      <td>3.19480</td>\n",
       "      <td>2.4201</td>\n",
       "      <td>b'1'</td>\n",
       "    </tr>\n",
       "    <tr>\n",
       "      <th>10171</th>\n",
       "      <td>-0.002554</td>\n",
       "      <td>0.47076</td>\n",
       "      <td>0.424010</td>\n",
       "      <td>1.90070</td>\n",
       "      <td>0.95483</td>\n",
       "      <td>-0.002554</td>\n",
       "      <td>0.001785</td>\n",
       "      <td>1.114400</td>\n",
       "      <td>0.99293</td>\n",
       "      <td>0.524640</td>\n",
       "      <td>...</td>\n",
       "      <td>-0.007122</td>\n",
       "      <td>-0.004869</td>\n",
       "      <td>1.00710</td>\n",
       "      <td>0.000000</td>\n",
       "      <td>6.4289</td>\n",
       "      <td>5.70250</td>\n",
       "      <td>64.291</td>\n",
       "      <td>5.67730</td>\n",
       "      <td>25.3990</td>\n",
       "      <td>b'1'</td>\n",
       "    </tr>\n",
       "    <tr>\n",
       "      <th>10172</th>\n",
       "      <td>0.002072</td>\n",
       "      <td>0.94315</td>\n",
       "      <td>-0.134740</td>\n",
       "      <td>0.85607</td>\n",
       "      <td>-119.92000</td>\n",
       "      <td>0.015226</td>\n",
       "      <td>0.002072</td>\n",
       "      <td>0.059818</td>\n",
       "      <td>1.77490</td>\n",
       "      <td>0.056417</td>\n",
       "      <td>...</td>\n",
       "      <td>0.031154</td>\n",
       "      <td>0.036720</td>\n",
       "      <td>0.96220</td>\n",
       "      <td>0.132800</td>\n",
       "      <td>4.1618</td>\n",
       "      <td>4.97340</td>\n",
       "      <td>192.510</td>\n",
       "      <td>1.89600</td>\n",
       "      <td>8.9562</td>\n",
       "      <td>b'1'</td>\n",
       "    </tr>\n",
       "  </tbody>\n",
       "</table>\n",
       "<p>9904 rows × 65 columns</p>\n",
       "</div>"
      ],
      "text/plain": [
       "          Attr1    Attr2     Attr3    Attr4      Attr5     Attr6     Attr7  \\\n",
       "0      0.202350  0.46500  0.240380  1.51710  -14.54700  0.510690  0.253660   \n",
       "1      0.030073  0.59563  0.186680  1.33820  -37.85900 -0.000319  0.041670   \n",
       "2      0.257860  0.29949  0.665190  3.22110   71.79900  0.000000  0.318770   \n",
       "3      0.227160  0.67850  0.042784  1.08280  -88.21200  0.000000  0.285050   \n",
       "4      0.085443  0.38039  0.359230  1.94440   21.73100  0.187900  0.108230   \n",
       "...         ...      ...       ...      ...        ...       ...       ...   \n",
       "10168  0.029970  0.66806  0.066243  1.11030 -105.55000  0.029970  0.038888   \n",
       "10169  0.012843  0.49306 -0.160620  0.61898  -24.80100  0.012843  0.012843   \n",
       "10170  0.015092  0.55759 -0.284600  0.48599  -85.57100  0.015092  0.009826   \n",
       "10171 -0.002554  0.47076  0.424010  1.90070    0.95483 -0.002554  0.001785   \n",
       "10172  0.002072  0.94315 -0.134740  0.85607 -119.92000  0.015226  0.002072   \n",
       "\n",
       "          Attr8    Attr9    Attr10  ...    Attr56    Attr57   Attr58  \\\n",
       "0      0.918160  1.15190  0.426950  ...  0.131840  0.473950  0.86816   \n",
       "1      0.678900  0.32356  0.404370  ...  0.121460  0.074369  0.87235   \n",
       "2      2.332000  1.67620  0.698410  ...  0.164990  0.369210  0.81614   \n",
       "3      0.473840  1.32410  0.321500  ...  0.293580  0.706570  0.78617   \n",
       "4      1.371400  1.11260  0.521670  ...  0.101240  0.163790  0.89876   \n",
       "...         ...      ...       ...  ...       ...       ...      ...   \n",
       "10168  0.482740  1.02920  0.322500  ...  0.028377  0.092931  0.97162   \n",
       "10169  0.905900  1.01450  0.446660  ...  0.014247  0.028752  0.98575   \n",
       "10170  0.694880  1.00600  0.387460  ...  0.005971  0.038950  0.99403   \n",
       "10171  1.114400  0.99293  0.524640  ... -0.007122 -0.004869  1.00710   \n",
       "10172  0.059818  1.77490  0.056417  ...  0.031154  0.036720  0.96220   \n",
       "\n",
       "         Attr59   Attr60    Attr61   Attr62   Attr63   Attr64  class  \n",
       "0      0.000240   8.5487   5.16550  107.740  3.38790   5.3440   b'0'  \n",
       "1      0.000000   1.5264   0.63305  622.660  0.58619   1.2381   b'0'  \n",
       "2      0.000000   4.3325   3.19850   65.215  5.59690  47.4660   b'0'  \n",
       "3      0.484560   5.2309   5.06750  142.460  2.56210   3.0066   b'0'  \n",
       "4      0.000000   5.7035   4.00200   89.058  4.09840   5.9874   b'0'  \n",
       "...         ...      ...       ...      ...      ...      ...    ...  \n",
       "10168  0.209820   3.0914   3.94560  192.220  1.89880   3.4199   b'1'  \n",
       "10169  0.160090  48.6660  63.75200   40.071  9.10870   5.1956   b'1'  \n",
       "10170  0.010091  15.0530  11.96400  114.250  3.19480   2.4201   b'1'  \n",
       "10171  0.000000   6.4289   5.70250   64.291  5.67730  25.3990   b'1'  \n",
       "10172  0.132800   4.1618   4.97340  192.510  1.89600   8.9562   b'1'  \n",
       "\n",
       "[9904 rows x 65 columns]"
      ]
     },
     "execution_count": 12,
     "metadata": {},
     "output_type": "execute_result"
    }
   ],
   "source": [
    "df_cleaned = data_df.dropna(thresh=data_df.shape[1] - 5)\n",
    "df_cleaned"
   ]
  },
  {
   "cell_type": "markdown",
   "metadata": {},
   "source": [
    "We were able to remove 269 rows that had a minimum of 6 columns missing."
   ]
  },
  {
   "cell_type": "code",
   "execution_count": 13,
   "metadata": {},
   "outputs": [
    {
     "data": {
      "text/plain": [
       "Attr37    4283\n",
       "Attr21    2919\n",
       "Attr27     598\n",
       "Attr60     419\n",
       "Attr45     417\n",
       "Attr24     210\n",
       "Attr41     162\n",
       "Attr32      57\n",
       "Attr47      44\n",
       "Attr52      44\n",
       "dtype: int64"
      ]
     },
     "execution_count": 13,
     "metadata": {},
     "output_type": "execute_result"
    }
   ],
   "source": [
    "df_cleaned.isnull().sum().nlargest(10)"
   ]
  },
  {
   "cell_type": "markdown",
   "metadata": {},
   "source": [
    "As can also be seen from the two significantly missing columns, deficiencies of more than 30% were considered sufficient for the values to be removed."
   ]
  },
  {
   "cell_type": "code",
   "execution_count": 14,
   "metadata": {},
   "outputs": [
    {
     "data": {
      "text/html": [
       "<div>\n",
       "<style scoped>\n",
       "    .dataframe tbody tr th:only-of-type {\n",
       "        vertical-align: middle;\n",
       "    }\n",
       "\n",
       "    .dataframe tbody tr th {\n",
       "        vertical-align: top;\n",
       "    }\n",
       "\n",
       "    .dataframe thead th {\n",
       "        text-align: right;\n",
       "    }\n",
       "</style>\n",
       "<table border=\"1\" class=\"dataframe\">\n",
       "  <thead>\n",
       "    <tr style=\"text-align: right;\">\n",
       "      <th></th>\n",
       "      <th>Attr1</th>\n",
       "      <th>Attr2</th>\n",
       "      <th>Attr3</th>\n",
       "      <th>Attr4</th>\n",
       "      <th>Attr5</th>\n",
       "      <th>Attr6</th>\n",
       "      <th>Attr7</th>\n",
       "      <th>Attr8</th>\n",
       "      <th>Attr9</th>\n",
       "      <th>Attr10</th>\n",
       "      <th>...</th>\n",
       "      <th>Attr56</th>\n",
       "      <th>Attr57</th>\n",
       "      <th>Attr58</th>\n",
       "      <th>Attr59</th>\n",
       "      <th>Attr60</th>\n",
       "      <th>Attr61</th>\n",
       "      <th>Attr62</th>\n",
       "      <th>Attr63</th>\n",
       "      <th>Attr64</th>\n",
       "      <th>class</th>\n",
       "    </tr>\n",
       "  </thead>\n",
       "  <tbody>\n",
       "    <tr>\n",
       "      <th>0</th>\n",
       "      <td>0.202350</td>\n",
       "      <td>0.46500</td>\n",
       "      <td>0.240380</td>\n",
       "      <td>1.51710</td>\n",
       "      <td>-14.54700</td>\n",
       "      <td>0.510690</td>\n",
       "      <td>0.253660</td>\n",
       "      <td>0.918160</td>\n",
       "      <td>1.15190</td>\n",
       "      <td>0.426950</td>\n",
       "      <td>...</td>\n",
       "      <td>0.131840</td>\n",
       "      <td>0.473950</td>\n",
       "      <td>0.86816</td>\n",
       "      <td>0.000240</td>\n",
       "      <td>8.5487</td>\n",
       "      <td>5.16550</td>\n",
       "      <td>107.740</td>\n",
       "      <td>3.38790</td>\n",
       "      <td>5.3440</td>\n",
       "      <td>b'0'</td>\n",
       "    </tr>\n",
       "    <tr>\n",
       "      <th>1</th>\n",
       "      <td>0.030073</td>\n",
       "      <td>0.59563</td>\n",
       "      <td>0.186680</td>\n",
       "      <td>1.33820</td>\n",
       "      <td>-37.85900</td>\n",
       "      <td>-0.000319</td>\n",
       "      <td>0.041670</td>\n",
       "      <td>0.678900</td>\n",
       "      <td>0.32356</td>\n",
       "      <td>0.404370</td>\n",
       "      <td>...</td>\n",
       "      <td>0.121460</td>\n",
       "      <td>0.074369</td>\n",
       "      <td>0.87235</td>\n",
       "      <td>0.000000</td>\n",
       "      <td>1.5264</td>\n",
       "      <td>0.63305</td>\n",
       "      <td>622.660</td>\n",
       "      <td>0.58619</td>\n",
       "      <td>1.2381</td>\n",
       "      <td>b'0'</td>\n",
       "    </tr>\n",
       "    <tr>\n",
       "      <th>2</th>\n",
       "      <td>0.257860</td>\n",
       "      <td>0.29949</td>\n",
       "      <td>0.665190</td>\n",
       "      <td>3.22110</td>\n",
       "      <td>71.79900</td>\n",
       "      <td>0.000000</td>\n",
       "      <td>0.318770</td>\n",
       "      <td>2.332000</td>\n",
       "      <td>1.67620</td>\n",
       "      <td>0.698410</td>\n",
       "      <td>...</td>\n",
       "      <td>0.164990</td>\n",
       "      <td>0.369210</td>\n",
       "      <td>0.81614</td>\n",
       "      <td>0.000000</td>\n",
       "      <td>4.3325</td>\n",
       "      <td>3.19850</td>\n",
       "      <td>65.215</td>\n",
       "      <td>5.59690</td>\n",
       "      <td>47.4660</td>\n",
       "      <td>b'0'</td>\n",
       "    </tr>\n",
       "    <tr>\n",
       "      <th>3</th>\n",
       "      <td>0.227160</td>\n",
       "      <td>0.67850</td>\n",
       "      <td>0.042784</td>\n",
       "      <td>1.08280</td>\n",
       "      <td>-88.21200</td>\n",
       "      <td>0.000000</td>\n",
       "      <td>0.285050</td>\n",
       "      <td>0.473840</td>\n",
       "      <td>1.32410</td>\n",
       "      <td>0.321500</td>\n",
       "      <td>...</td>\n",
       "      <td>0.293580</td>\n",
       "      <td>0.706570</td>\n",
       "      <td>0.78617</td>\n",
       "      <td>0.484560</td>\n",
       "      <td>5.2309</td>\n",
       "      <td>5.06750</td>\n",
       "      <td>142.460</td>\n",
       "      <td>2.56210</td>\n",
       "      <td>3.0066</td>\n",
       "      <td>b'0'</td>\n",
       "    </tr>\n",
       "    <tr>\n",
       "      <th>4</th>\n",
       "      <td>0.085443</td>\n",
       "      <td>0.38039</td>\n",
       "      <td>0.359230</td>\n",
       "      <td>1.94440</td>\n",
       "      <td>21.73100</td>\n",
       "      <td>0.187900</td>\n",
       "      <td>0.108230</td>\n",
       "      <td>1.371400</td>\n",
       "      <td>1.11260</td>\n",
       "      <td>0.521670</td>\n",
       "      <td>...</td>\n",
       "      <td>0.101240</td>\n",
       "      <td>0.163790</td>\n",
       "      <td>0.89876</td>\n",
       "      <td>0.000000</td>\n",
       "      <td>5.7035</td>\n",
       "      <td>4.00200</td>\n",
       "      <td>89.058</td>\n",
       "      <td>4.09840</td>\n",
       "      <td>5.9874</td>\n",
       "      <td>b'0'</td>\n",
       "    </tr>\n",
       "    <tr>\n",
       "      <th>...</th>\n",
       "      <td>...</td>\n",
       "      <td>...</td>\n",
       "      <td>...</td>\n",
       "      <td>...</td>\n",
       "      <td>...</td>\n",
       "      <td>...</td>\n",
       "      <td>...</td>\n",
       "      <td>...</td>\n",
       "      <td>...</td>\n",
       "      <td>...</td>\n",
       "      <td>...</td>\n",
       "      <td>...</td>\n",
       "      <td>...</td>\n",
       "      <td>...</td>\n",
       "      <td>...</td>\n",
       "      <td>...</td>\n",
       "      <td>...</td>\n",
       "      <td>...</td>\n",
       "      <td>...</td>\n",
       "      <td>...</td>\n",
       "      <td>...</td>\n",
       "    </tr>\n",
       "    <tr>\n",
       "      <th>10168</th>\n",
       "      <td>0.029970</td>\n",
       "      <td>0.66806</td>\n",
       "      <td>0.066243</td>\n",
       "      <td>1.11030</td>\n",
       "      <td>-105.55000</td>\n",
       "      <td>0.029970</td>\n",
       "      <td>0.038888</td>\n",
       "      <td>0.482740</td>\n",
       "      <td>1.02920</td>\n",
       "      <td>0.322500</td>\n",
       "      <td>...</td>\n",
       "      <td>0.028377</td>\n",
       "      <td>0.092931</td>\n",
       "      <td>0.97162</td>\n",
       "      <td>0.209820</td>\n",
       "      <td>3.0914</td>\n",
       "      <td>3.94560</td>\n",
       "      <td>192.220</td>\n",
       "      <td>1.89880</td>\n",
       "      <td>3.4199</td>\n",
       "      <td>b'1'</td>\n",
       "    </tr>\n",
       "    <tr>\n",
       "      <th>10169</th>\n",
       "      <td>0.012843</td>\n",
       "      <td>0.49306</td>\n",
       "      <td>-0.160620</td>\n",
       "      <td>0.61898</td>\n",
       "      <td>-24.80100</td>\n",
       "      <td>0.012843</td>\n",
       "      <td>0.012843</td>\n",
       "      <td>0.905900</td>\n",
       "      <td>1.01450</td>\n",
       "      <td>0.446660</td>\n",
       "      <td>...</td>\n",
       "      <td>0.014247</td>\n",
       "      <td>0.028752</td>\n",
       "      <td>0.98575</td>\n",
       "      <td>0.160090</td>\n",
       "      <td>48.6660</td>\n",
       "      <td>63.75200</td>\n",
       "      <td>40.071</td>\n",
       "      <td>9.10870</td>\n",
       "      <td>5.1956</td>\n",
       "      <td>b'1'</td>\n",
       "    </tr>\n",
       "    <tr>\n",
       "      <th>10170</th>\n",
       "      <td>0.015092</td>\n",
       "      <td>0.55759</td>\n",
       "      <td>-0.284600</td>\n",
       "      <td>0.48599</td>\n",
       "      <td>-85.57100</td>\n",
       "      <td>0.015092</td>\n",
       "      <td>0.009826</td>\n",
       "      <td>0.694880</td>\n",
       "      <td>1.00600</td>\n",
       "      <td>0.387460</td>\n",
       "      <td>...</td>\n",
       "      <td>0.005971</td>\n",
       "      <td>0.038950</td>\n",
       "      <td>0.99403</td>\n",
       "      <td>0.010091</td>\n",
       "      <td>15.0530</td>\n",
       "      <td>11.96400</td>\n",
       "      <td>114.250</td>\n",
       "      <td>3.19480</td>\n",
       "      <td>2.4201</td>\n",
       "      <td>b'1'</td>\n",
       "    </tr>\n",
       "    <tr>\n",
       "      <th>10171</th>\n",
       "      <td>-0.002554</td>\n",
       "      <td>0.47076</td>\n",
       "      <td>0.424010</td>\n",
       "      <td>1.90070</td>\n",
       "      <td>0.95483</td>\n",
       "      <td>-0.002554</td>\n",
       "      <td>0.001785</td>\n",
       "      <td>1.114400</td>\n",
       "      <td>0.99293</td>\n",
       "      <td>0.524640</td>\n",
       "      <td>...</td>\n",
       "      <td>-0.007122</td>\n",
       "      <td>-0.004869</td>\n",
       "      <td>1.00710</td>\n",
       "      <td>0.000000</td>\n",
       "      <td>6.4289</td>\n",
       "      <td>5.70250</td>\n",
       "      <td>64.291</td>\n",
       "      <td>5.67730</td>\n",
       "      <td>25.3990</td>\n",
       "      <td>b'1'</td>\n",
       "    </tr>\n",
       "    <tr>\n",
       "      <th>10172</th>\n",
       "      <td>0.002072</td>\n",
       "      <td>0.94315</td>\n",
       "      <td>-0.134740</td>\n",
       "      <td>0.85607</td>\n",
       "      <td>-119.92000</td>\n",
       "      <td>0.015226</td>\n",
       "      <td>0.002072</td>\n",
       "      <td>0.059818</td>\n",
       "      <td>1.77490</td>\n",
       "      <td>0.056417</td>\n",
       "      <td>...</td>\n",
       "      <td>0.031154</td>\n",
       "      <td>0.036720</td>\n",
       "      <td>0.96220</td>\n",
       "      <td>0.132800</td>\n",
       "      <td>4.1618</td>\n",
       "      <td>4.97340</td>\n",
       "      <td>192.510</td>\n",
       "      <td>1.89600</td>\n",
       "      <td>8.9562</td>\n",
       "      <td>b'1'</td>\n",
       "    </tr>\n",
       "  </tbody>\n",
       "</table>\n",
       "<p>9904 rows × 63 columns</p>\n",
       "</div>"
      ],
      "text/plain": [
       "          Attr1    Attr2     Attr3    Attr4      Attr5     Attr6     Attr7  \\\n",
       "0      0.202350  0.46500  0.240380  1.51710  -14.54700  0.510690  0.253660   \n",
       "1      0.030073  0.59563  0.186680  1.33820  -37.85900 -0.000319  0.041670   \n",
       "2      0.257860  0.29949  0.665190  3.22110   71.79900  0.000000  0.318770   \n",
       "3      0.227160  0.67850  0.042784  1.08280  -88.21200  0.000000  0.285050   \n",
       "4      0.085443  0.38039  0.359230  1.94440   21.73100  0.187900  0.108230   \n",
       "...         ...      ...       ...      ...        ...       ...       ...   \n",
       "10168  0.029970  0.66806  0.066243  1.11030 -105.55000  0.029970  0.038888   \n",
       "10169  0.012843  0.49306 -0.160620  0.61898  -24.80100  0.012843  0.012843   \n",
       "10170  0.015092  0.55759 -0.284600  0.48599  -85.57100  0.015092  0.009826   \n",
       "10171 -0.002554  0.47076  0.424010  1.90070    0.95483 -0.002554  0.001785   \n",
       "10172  0.002072  0.94315 -0.134740  0.85607 -119.92000  0.015226  0.002072   \n",
       "\n",
       "          Attr8    Attr9    Attr10  ...    Attr56    Attr57   Attr58  \\\n",
       "0      0.918160  1.15190  0.426950  ...  0.131840  0.473950  0.86816   \n",
       "1      0.678900  0.32356  0.404370  ...  0.121460  0.074369  0.87235   \n",
       "2      2.332000  1.67620  0.698410  ...  0.164990  0.369210  0.81614   \n",
       "3      0.473840  1.32410  0.321500  ...  0.293580  0.706570  0.78617   \n",
       "4      1.371400  1.11260  0.521670  ...  0.101240  0.163790  0.89876   \n",
       "...         ...      ...       ...  ...       ...       ...      ...   \n",
       "10168  0.482740  1.02920  0.322500  ...  0.028377  0.092931  0.97162   \n",
       "10169  0.905900  1.01450  0.446660  ...  0.014247  0.028752  0.98575   \n",
       "10170  0.694880  1.00600  0.387460  ...  0.005971  0.038950  0.99403   \n",
       "10171  1.114400  0.99293  0.524640  ... -0.007122 -0.004869  1.00710   \n",
       "10172  0.059818  1.77490  0.056417  ...  0.031154  0.036720  0.96220   \n",
       "\n",
       "         Attr59   Attr60    Attr61   Attr62   Attr63   Attr64  class  \n",
       "0      0.000240   8.5487   5.16550  107.740  3.38790   5.3440   b'0'  \n",
       "1      0.000000   1.5264   0.63305  622.660  0.58619   1.2381   b'0'  \n",
       "2      0.000000   4.3325   3.19850   65.215  5.59690  47.4660   b'0'  \n",
       "3      0.484560   5.2309   5.06750  142.460  2.56210   3.0066   b'0'  \n",
       "4      0.000000   5.7035   4.00200   89.058  4.09840   5.9874   b'0'  \n",
       "...         ...      ...       ...      ...      ...      ...    ...  \n",
       "10168  0.209820   3.0914   3.94560  192.220  1.89880   3.4199   b'1'  \n",
       "10169  0.160090  48.6660  63.75200   40.071  9.10870   5.1956   b'1'  \n",
       "10170  0.010091  15.0530  11.96400  114.250  3.19480   2.4201   b'1'  \n",
       "10171  0.000000   6.4289   5.70250   64.291  5.67730  25.3990   b'1'  \n",
       "10172  0.132800   4.1618   4.97340  192.510  1.89600   8.9562   b'1'  \n",
       "\n",
       "[9904 rows x 63 columns]"
      ]
     },
     "execution_count": 14,
     "metadata": {},
     "output_type": "execute_result"
    }
   ],
   "source": [
    "df_cleaned2 = df_cleaned.drop(columns=['Attr37', 'Attr21'])\n",
    "df_cleaned2"
   ]
  },
  {
   "cell_type": "markdown",
   "metadata": {},
   "source": [
    "The remaining `null` values will be replaced by the average value of the column for the corresponding class."
   ]
  },
  {
   "cell_type": "code",
   "execution_count": 15,
   "metadata": {},
   "outputs": [
    {
     "name": "stderr",
     "output_type": "stream",
     "text": [
      "C:\\Users\\dawir\\AppData\\Local\\Temp\\ipykernel_16692\\2566713506.py:2: DeprecationWarning: DataFrameGroupBy.apply operated on the grouping columns. This behavior is deprecated, and in a future version of pandas the grouping columns will be excluded from the operation. Either pass `include_groups=False` to exclude the groupings or explicitly select the grouping columns after groupby to silence this warning.\n",
      "  df_cleaned3.iloc[:, :] = df_cleaned3.groupby('class').apply(lambda i: i.fillna(i.mean()))\n"
     ]
    }
   ],
   "source": [
    "df_cleaned3 = df_cleaned2.copy()\n",
    "df_cleaned3.iloc[:, :] = df_cleaned3.groupby('class').apply(lambda i: i.fillna(i.mean()))"
   ]
  },
  {
   "cell_type": "markdown",
   "metadata": {},
   "source": [
    "**The y** data is ‘nice’ and has therefore been separated at the start and will not be processed, apart from converting the binary notation to integer {0, 1}."
   ]
  },
  {
   "cell_type": "code",
   "execution_count": 16,
   "metadata": {},
   "outputs": [
    {
     "data": {
      "text/html": [
       "<div>\n",
       "<style scoped>\n",
       "    .dataframe tbody tr th:only-of-type {\n",
       "        vertical-align: middle;\n",
       "    }\n",
       "\n",
       "    .dataframe tbody tr th {\n",
       "        vertical-align: top;\n",
       "    }\n",
       "\n",
       "    .dataframe thead th {\n",
       "        text-align: right;\n",
       "    }\n",
       "</style>\n",
       "<table border=\"1\" class=\"dataframe\">\n",
       "  <thead>\n",
       "    <tr style=\"text-align: right;\">\n",
       "      <th></th>\n",
       "      <th>class</th>\n",
       "    </tr>\n",
       "  </thead>\n",
       "  <tbody>\n",
       "    <tr>\n",
       "      <th>0</th>\n",
       "      <td>0</td>\n",
       "    </tr>\n",
       "    <tr>\n",
       "      <th>1</th>\n",
       "      <td>0</td>\n",
       "    </tr>\n",
       "    <tr>\n",
       "      <th>2</th>\n",
       "      <td>0</td>\n",
       "    </tr>\n",
       "    <tr>\n",
       "      <th>3</th>\n",
       "      <td>0</td>\n",
       "    </tr>\n",
       "    <tr>\n",
       "      <th>4</th>\n",
       "      <td>0</td>\n",
       "    </tr>\n",
       "  </tbody>\n",
       "</table>\n",
       "</div>"
      ],
      "text/plain": [
       "   class\n",
       "0      0\n",
       "1      0\n",
       "2      0\n",
       "3      0\n",
       "4      0"
      ]
     },
     "execution_count": 16,
     "metadata": {},
     "output_type": "execute_result"
    }
   ],
   "source": [
    "y_df = pd.DataFrame(df_cleaned3.pop('class'))\n",
    "y_df = y_df.astype(int)\n",
    "y_df.head()"
   ]
  },
  {
   "cell_type": "markdown",
   "metadata": {},
   "source": [
    "### Standardisation\n",
    "\n",
    "Standardisation was used because it does not disturb outliers and handles them better."
   ]
  },
  {
   "cell_type": "code",
   "execution_count": 17,
   "metadata": {},
   "outputs": [
    {
     "data": {
      "text/html": [
       "<div>\n",
       "<style scoped>\n",
       "    .dataframe tbody tr th:only-of-type {\n",
       "        vertical-align: middle;\n",
       "    }\n",
       "\n",
       "    .dataframe tbody tr th {\n",
       "        vertical-align: top;\n",
       "    }\n",
       "\n",
       "    .dataframe thead th {\n",
       "        text-align: right;\n",
       "    }\n",
       "</style>\n",
       "<table border=\"1\" class=\"dataframe\">\n",
       "  <thead>\n",
       "    <tr style=\"text-align: right;\">\n",
       "      <th></th>\n",
       "      <th>Attr1</th>\n",
       "      <th>Attr2</th>\n",
       "      <th>Attr3</th>\n",
       "      <th>Attr4</th>\n",
       "      <th>Attr5</th>\n",
       "      <th>Attr6</th>\n",
       "      <th>Attr7</th>\n",
       "      <th>Attr8</th>\n",
       "      <th>Attr9</th>\n",
       "      <th>Attr10</th>\n",
       "      <th>...</th>\n",
       "      <th>Attr55</th>\n",
       "      <th>Attr56</th>\n",
       "      <th>Attr57</th>\n",
       "      <th>Attr58</th>\n",
       "      <th>Attr59</th>\n",
       "      <th>Attr60</th>\n",
       "      <th>Attr61</th>\n",
       "      <th>Attr62</th>\n",
       "      <th>Attr63</th>\n",
       "      <th>Attr64</th>\n",
       "    </tr>\n",
       "  </thead>\n",
       "  <tbody>\n",
       "    <tr>\n",
       "      <th>count</th>\n",
       "      <td>9904.000000</td>\n",
       "      <td>9.904000e+03</td>\n",
       "      <td>9904.000000</td>\n",
       "      <td>9.904000e+03</td>\n",
       "      <td>9.904000e+03</td>\n",
       "      <td>9.904000e+03</td>\n",
       "      <td>9.904000e+03</td>\n",
       "      <td>9.904000e+03</td>\n",
       "      <td>9.904000e+03</td>\n",
       "      <td>9.904000e+03</td>\n",
       "      <td>...</td>\n",
       "      <td>9.904000e+03</td>\n",
       "      <td>9.904000e+03</td>\n",
       "      <td>9904.000000</td>\n",
       "      <td>9.904000e+03</td>\n",
       "      <td>9.904000e+03</td>\n",
       "      <td>9.904000e+03</td>\n",
       "      <td>9.904000e+03</td>\n",
       "      <td>9904.000000</td>\n",
       "      <td>9.904000e+03</td>\n",
       "      <td>9.904000e+03</td>\n",
       "    </tr>\n",
       "    <tr>\n",
       "      <th>mean</th>\n",
       "      <td>0.000000</td>\n",
       "      <td>9.183105e-17</td>\n",
       "      <td>0.000000</td>\n",
       "      <td>-3.264307e-17</td>\n",
       "      <td>-2.152290e-18</td>\n",
       "      <td>-8.609161e-18</td>\n",
       "      <td>-1.793575e-18</td>\n",
       "      <td>3.587150e-18</td>\n",
       "      <td>-6.098156e-18</td>\n",
       "      <td>-5.452468e-17</td>\n",
       "      <td>...</td>\n",
       "      <td>6.456871e-18</td>\n",
       "      <td>-7.174301e-19</td>\n",
       "      <td>0.000000</td>\n",
       "      <td>1.004402e-17</td>\n",
       "      <td>-3.587150e-19</td>\n",
       "      <td>-7.174301e-18</td>\n",
       "      <td>-7.174301e-18</td>\n",
       "      <td>0.000000</td>\n",
       "      <td>7.533016e-18</td>\n",
       "      <td>1.004402e-17</td>\n",
       "    </tr>\n",
       "    <tr>\n",
       "      <th>std</th>\n",
       "      <td>1.000050</td>\n",
       "      <td>1.000050e+00</td>\n",
       "      <td>1.000050</td>\n",
       "      <td>1.000050e+00</td>\n",
       "      <td>1.000050e+00</td>\n",
       "      <td>1.000050e+00</td>\n",
       "      <td>1.000050e+00</td>\n",
       "      <td>1.000050e+00</td>\n",
       "      <td>1.000050e+00</td>\n",
       "      <td>1.000050e+00</td>\n",
       "      <td>...</td>\n",
       "      <td>1.000050e+00</td>\n",
       "      <td>1.000050e+00</td>\n",
       "      <td>1.000050</td>\n",
       "      <td>1.000050e+00</td>\n",
       "      <td>1.000050e+00</td>\n",
       "      <td>1.000050e+00</td>\n",
       "      <td>1.000050e+00</td>\n",
       "      <td>1.000050</td>\n",
       "      <td>1.000050e+00</td>\n",
       "      <td>1.000050e+00</td>\n",
       "    </tr>\n",
       "    <tr>\n",
       "      <th>min</th>\n",
       "      <td>-30.445607</td>\n",
       "      <td>-1.257266e+00</td>\n",
       "      <td>-36.359200</td>\n",
       "      <td>-2.323786e-01</td>\n",
       "      <td>-7.615592e+01</td>\n",
       "      <td>-3.241195e+01</td>\n",
       "      <td>-1.066578e+00</td>\n",
       "      <td>-1.876610e-01</td>\n",
       "      <td>-2.868613e-02</td>\n",
       "      <td>-3.319133e+01</td>\n",
       "      <td>...</td>\n",
       "      <td>-2.731398e+01</td>\n",
       "      <td>-9.764410e+01</td>\n",
       "      <td>-79.020520</td>\n",
       "      <td>-7.642471e-02</td>\n",
       "      <td>-7.983578e-01</td>\n",
       "      <td>-3.135665e-02</td>\n",
       "      <td>-5.538333e-02</td>\n",
       "      <td>-0.041596</td>\n",
       "      <td>-4.792457e-02</td>\n",
       "      <td>-1.282298e+01</td>\n",
       "    </tr>\n",
       "    <tr>\n",
       "      <th>25%</th>\n",
       "      <td>-0.287611</td>\n",
       "      <td>-5.909505e-01</td>\n",
       "      <td>-0.413220</td>\n",
       "      <td>-1.581347e-01</td>\n",
       "      <td>3.105112e-03</td>\n",
       "      <td>-3.400283e-02</td>\n",
       "      <td>-2.202324e-02</td>\n",
       "      <td>-1.151211e-01</td>\n",
       "      <td>-1.817411e-02</td>\n",
       "      <td>-4.108197e-01</td>\n",
       "      <td>...</td>\n",
       "      <td>-9.167943e-02</td>\n",
       "      <td>1.334824e-02</td>\n",
       "      <td>0.003729</td>\n",
       "      <td>-1.431730e-02</td>\n",
       "      <td>-1.290008e-02</td>\n",
       "      <td>-3.087185e-02</td>\n",
       "      <td>-3.944928e-02</td>\n",
       "      <td>-0.017439</td>\n",
       "      <td>-3.311625e-02</td>\n",
       "      <td>-4.816410e-02</td>\n",
       "    </tr>\n",
       "    <tr>\n",
       "      <th>50%</th>\n",
       "      <td>-0.069201</td>\n",
       "      <td>-9.582225e-02</td>\n",
       "      <td>0.019179</td>\n",
       "      <td>-1.229062e-01</td>\n",
       "      <td>1.145550e-02</td>\n",
       "      <td>-3.400283e-02</td>\n",
       "      <td>-1.314988e-02</td>\n",
       "      <td>-9.327436e-02</td>\n",
       "      <td>-1.558603e-02</td>\n",
       "      <td>8.589134e-02</td>\n",
       "      <td>...</td>\n",
       "      <td>-7.814013e-02</td>\n",
       "      <td>1.385657e-02</td>\n",
       "      <td>0.013163</td>\n",
       "      <td>-1.343919e-02</td>\n",
       "      <td>-1.286516e-02</td>\n",
       "      <td>-3.045907e-02</td>\n",
       "      <td>-3.185779e-02</td>\n",
       "      <td>-0.016750</td>\n",
       "      <td>-2.437815e-02</td>\n",
       "      <td>-4.549946e-02</td>\n",
       "    </tr>\n",
       "    <tr>\n",
       "      <th>75%</th>\n",
       "      <td>0.335041</td>\n",
       "      <td>4.120120e-01</td>\n",
       "      <td>0.528658</td>\n",
       "      <td>-3.709154e-02</td>\n",
       "      <td>2.058248e-02</td>\n",
       "      <td>1.349828e-01</td>\n",
       "      <td>3.042773e-03</td>\n",
       "      <td>-3.886003e-02</td>\n",
       "      <td>-5.852831e-03</td>\n",
       "      <td>5.817502e-01</td>\n",
       "      <td>...</td>\n",
       "      <td>-2.904964e-02</td>\n",
       "      <td>1.474989e-02</td>\n",
       "      <td>0.027724</td>\n",
       "      <td>-1.294203e-02</td>\n",
       "      <td>-1.182272e-02</td>\n",
       "      <td>-2.920448e-02</td>\n",
       "      <td>-1.827671e-02</td>\n",
       "      <td>-0.015668</td>\n",
       "      <td>-8.491226e-03</td>\n",
       "      <td>-3.819942e-02</td>\n",
       "    </tr>\n",
       "    <tr>\n",
       "      <th>max</th>\n",
       "      <td>13.465307</td>\n",
       "      <td>3.325204e+01</td>\n",
       "      <td>2.016869</td>\n",
       "      <td>5.646140e+01</td>\n",
       "      <td>1.229712e+01</td>\n",
       "      <td>3.141886e+01</td>\n",
       "      <td>9.944679e+01</td>\n",
       "      <td>5.802876e+01</td>\n",
       "      <td>9.950294e+01</td>\n",
       "      <td>1.294203e+00</td>\n",
       "      <td>...</td>\n",
       "      <td>5.506146e+01</td>\n",
       "      <td>2.443656e-01</td>\n",
       "      <td>11.880751</td>\n",
       "      <td>9.775090e+01</td>\n",
       "      <td>9.881357e+01</td>\n",
       "      <td>5.275884e+01</td>\n",
       "      <td>8.984373e+01</td>\n",
       "      <td>96.922442</td>\n",
       "      <td>9.913627e+01</td>\n",
       "      <td>8.411620e+01</td>\n",
       "    </tr>\n",
       "  </tbody>\n",
       "</table>\n",
       "<p>8 rows × 62 columns</p>\n",
       "</div>"
      ],
      "text/plain": [
       "             Attr1         Attr2        Attr3         Attr4         Attr5  \\\n",
       "count  9904.000000  9.904000e+03  9904.000000  9.904000e+03  9.904000e+03   \n",
       "mean      0.000000  9.183105e-17     0.000000 -3.264307e-17 -2.152290e-18   \n",
       "std       1.000050  1.000050e+00     1.000050  1.000050e+00  1.000050e+00   \n",
       "min     -30.445607 -1.257266e+00   -36.359200 -2.323786e-01 -7.615592e+01   \n",
       "25%      -0.287611 -5.909505e-01    -0.413220 -1.581347e-01  3.105112e-03   \n",
       "50%      -0.069201 -9.582225e-02     0.019179 -1.229062e-01  1.145550e-02   \n",
       "75%       0.335041  4.120120e-01     0.528658 -3.709154e-02  2.058248e-02   \n",
       "max      13.465307  3.325204e+01     2.016869  5.646140e+01  1.229712e+01   \n",
       "\n",
       "              Attr6         Attr7         Attr8         Attr9        Attr10  \\\n",
       "count  9.904000e+03  9.904000e+03  9.904000e+03  9.904000e+03  9.904000e+03   \n",
       "mean  -8.609161e-18 -1.793575e-18  3.587150e-18 -6.098156e-18 -5.452468e-17   \n",
       "std    1.000050e+00  1.000050e+00  1.000050e+00  1.000050e+00  1.000050e+00   \n",
       "min   -3.241195e+01 -1.066578e+00 -1.876610e-01 -2.868613e-02 -3.319133e+01   \n",
       "25%   -3.400283e-02 -2.202324e-02 -1.151211e-01 -1.817411e-02 -4.108197e-01   \n",
       "50%   -3.400283e-02 -1.314988e-02 -9.327436e-02 -1.558603e-02  8.589134e-02   \n",
       "75%    1.349828e-01  3.042773e-03 -3.886003e-02 -5.852831e-03  5.817502e-01   \n",
       "max    3.141886e+01  9.944679e+01  5.802876e+01  9.950294e+01  1.294203e+00   \n",
       "\n",
       "       ...        Attr55        Attr56       Attr57        Attr58  \\\n",
       "count  ...  9.904000e+03  9.904000e+03  9904.000000  9.904000e+03   \n",
       "mean   ...  6.456871e-18 -7.174301e-19     0.000000  1.004402e-17   \n",
       "std    ...  1.000050e+00  1.000050e+00     1.000050  1.000050e+00   \n",
       "min    ... -2.731398e+01 -9.764410e+01   -79.020520 -7.642471e-02   \n",
       "25%    ... -9.167943e-02  1.334824e-02     0.003729 -1.431730e-02   \n",
       "50%    ... -7.814013e-02  1.385657e-02     0.013163 -1.343919e-02   \n",
       "75%    ... -2.904964e-02  1.474989e-02     0.027724 -1.294203e-02   \n",
       "max    ...  5.506146e+01  2.443656e-01    11.880751  9.775090e+01   \n",
       "\n",
       "             Attr59        Attr60        Attr61       Attr62        Attr63  \\\n",
       "count  9.904000e+03  9.904000e+03  9.904000e+03  9904.000000  9.904000e+03   \n",
       "mean  -3.587150e-19 -7.174301e-18 -7.174301e-18     0.000000  7.533016e-18   \n",
       "std    1.000050e+00  1.000050e+00  1.000050e+00     1.000050  1.000050e+00   \n",
       "min   -7.983578e-01 -3.135665e-02 -5.538333e-02    -0.041596 -4.792457e-02   \n",
       "25%   -1.290008e-02 -3.087185e-02 -3.944928e-02    -0.017439 -3.311625e-02   \n",
       "50%   -1.286516e-02 -3.045907e-02 -3.185779e-02    -0.016750 -2.437815e-02   \n",
       "75%   -1.182272e-02 -2.920448e-02 -1.827671e-02    -0.015668 -8.491226e-03   \n",
       "max    9.881357e+01  5.275884e+01  8.984373e+01    96.922442  9.913627e+01   \n",
       "\n",
       "             Attr64  \n",
       "count  9.904000e+03  \n",
       "mean   1.004402e-17  \n",
       "std    1.000050e+00  \n",
       "min   -1.282298e+01  \n",
       "25%   -4.816410e-02  \n",
       "50%   -4.549946e-02  \n",
       "75%   -3.819942e-02  \n",
       "max    8.411620e+01  \n",
       "\n",
       "[8 rows x 62 columns]"
      ]
     },
     "execution_count": 17,
     "metadata": {},
     "output_type": "execute_result"
    }
   ],
   "source": [
    "scaled_values = StandardScaler().fit_transform(df_cleaned3.values)\n",
    "df_scaled = pd.DataFrame(scaled_values, index=df_cleaned3.index, columns=df_cleaned3.columns)\n",
    "df_scaled.describe()"
   ]
  },
  {
   "cell_type": "markdown",
   "metadata": {},
   "source": [
    "## Analysis of outliers"
   ]
  },
  {
   "cell_type": "markdown",
   "metadata": {},
   "source": [
    "The **Box plots** are a good way to look at the data in the context of detecting outliers. They show large cases in an easy and clear way."
   ]
  },
  {
   "cell_type": "code",
   "execution_count": 18,
   "metadata": {},
   "outputs": [
    {
     "data": {
      "text/plain": [
       "Attr1        Axes(0.125,0.83;0.133621x0.05)\n",
       "Attr2     Axes(0.285345,0.83;0.133621x0.05)\n",
       "Attr3      Axes(0.44569,0.83;0.133621x0.05)\n",
       "Attr4     Axes(0.606034,0.83;0.133621x0.05)\n",
       "Attr5     Axes(0.766379,0.83;0.133621x0.05)\n",
       "                        ...                \n",
       "Attr60     Axes(0.44569,0.17;0.133621x0.05)\n",
       "Attr61    Axes(0.606034,0.17;0.133621x0.05)\n",
       "Attr62    Axes(0.766379,0.17;0.133621x0.05)\n",
       "Attr63       Axes(0.125,0.11;0.133621x0.05)\n",
       "Attr64    Axes(0.285345,0.11;0.133621x0.05)\n",
       "Length: 62, dtype: object"
      ]
     },
     "execution_count": 18,
     "metadata": {},
     "output_type": "execute_result"
    },
    {
     "data": {
      "image/png": "[encoded data removed]",
      "text/plain": [
       "<Figure size 1500x2000 with 65 Axes>"
      ]
     },
     "metadata": {},
     "output_type": "display_data"
    }
   ],
   "source": [
    "df_scaled.plot(kind='box', subplots=True,layout=(13,5),figsize=(15,20))"
   ]
  },
  {
   "cell_type": "code",
   "execution_count": 19,
   "metadata": {},
   "outputs": [
    {
     "data": {
      "text/plain": [
       "Attr63       Axes(0.125,0.11;0.352273x0.77)\n",
       "Attr9     Axes(0.547727,0.11;0.352273x0.77)\n",
       "dtype: object"
      ]
     },
     "execution_count": 19,
     "metadata": {},
     "output_type": "execute_result"
    },
    {
     "data": {
      "image/png": "[encoded data removed]",
      "text/plain": [
       "<Figure size 640x480 with 2 Axes>"
      ]
     },
     "metadata": {},
     "output_type": "display_data"
    }
   ],
   "source": [
    "df_scaled[['Attr63', 'Attr9']].plot(kind='box', subplots=True,layout=(1,2))"
   ]
  },
  {
   "cell_type": "markdown",
   "metadata": {},
   "source": [
    "### Z-score approach"
   ]
  },
  {
   "cell_type": "code",
   "execution_count": 20,
   "metadata": {},
   "outputs": [
    {
     "data": {
      "text/plain": [
       "(9292, 62)"
      ]
     },
     "metadata": {},
     "output_type": "display_data"
    },
    {
     "data": {
      "text/plain": [
       "(9292, 1)"
      ]
     },
     "metadata": {},
     "output_type": "display_data"
    },
    {
     "name": "stdout",
     "output_type": "stream",
     "text": [
      "Deleted 612 outliers\n"
     ]
    }
   ],
   "source": [
    "original_shape = df_scaled.shape\n",
    "z_scores = np.abs(zscore(df_scaled))\n",
    "outliers_id = np.array(z_scores > 3).any(axis=1)\n",
    "\n",
    "no_outliers_z_x = df_scaled[~outliers_id]\n",
    "no_outliers_z_y = y_df[~outliers_id]\n",
    "\n",
    "display(no_outliers_z_x.shape)\n",
    "display(no_outliers_z_y.shape)\n",
    "print(f\"Deleted {original_shape[0] - no_outliers_z_x.shape[0]} outliers\")"
   ]
  },
  {
   "cell_type": "code",
   "execution_count": 21,
   "metadata": {},
   "outputs": [
    {
     "data": {
      "text/plain": [
       "Attr63       Axes(0.125,0.11;0.352273x0.77)\n",
       "Attr9     Axes(0.547727,0.11;0.352273x0.77)\n",
       "dtype: object"
      ]
     },
     "execution_count": 21,
     "metadata": {},
     "output_type": "execute_result"
    },
    {
     "data": {
      "image/png": "[encoded data removed]",
      "text/plain": [
       "<Figure size 640x480 with 2 Axes>"
      ]
     },
     "metadata": {},
     "output_type": "display_data"
    }
   ],
   "source": [
    "no_outliers_z_x[['Attr63', 'Attr9']].plot(kind='box', subplots=True,layout=(1,2))"
   ]
  },
  {
   "cell_type": "markdown",
   "metadata": {},
   "source": [
    "After the outliers have been cut off, the data are still highly dispersed; however, a significant reduction in the scale of the y-axis in the graphs can be seen."
   ]
  },
  {
   "cell_type": "markdown",
   "metadata": {},
   "source": [
    "### Isolation Forest approach"
   ]
  },
  {
   "cell_type": "code",
   "execution_count": 22,
   "metadata": {},
   "outputs": [
    {
     "data": {
      "text/plain": [
       "(8913, 62)"
      ]
     },
     "metadata": {},
     "output_type": "display_data"
    },
    {
     "data": {
      "text/plain": [
       "(8913, 1)"
      ]
     },
     "metadata": {},
     "output_type": "display_data"
    },
    {
     "name": "stdout",
     "output_type": "stream",
     "text": [
      "Deleted 991 outliers\n"
     ]
    }
   ],
   "source": [
    "original_shape = df_scaled.shape\n",
    "\n",
    "isolation_forest = IsolationForest(random_state=42, contamination=0.1)\n",
    "outliers = isolation_forest.fit_predict(df_scaled)\n",
    "\n",
    "no_outliers_if_x = df_scaled[outliers == 1]\n",
    "no_outliers_if_y = y_df[outliers == 1]\n",
    "display(no_outliers_if_x.shape)\n",
    "display(no_outliers_if_y.shape)\n",
    "print(f\"Deleted {original_shape[0] - no_outliers_if_x.shape[0]} outliers\")"
   ]
  },
  {
   "cell_type": "markdown",
   "metadata": {},
   "source": [
    "## Dimension reduction"
   ]
  },
  {
   "cell_type": "code",
   "execution_count": 23,
   "metadata": {},
   "outputs": [],
   "source": [
    "reduction_factor = 0.95"
   ]
  },
  {
   "cell_type": "markdown",
   "metadata": {},
   "source": [
    "### PCA"
   ]
  },
  {
   "cell_type": "code",
   "execution_count": 24,
   "metadata": {},
   "outputs": [
    {
     "data": {
      "text/plain": [
       "array([4.82585033e-01, 2.01615047e-01, 8.65872596e-02, 4.73104410e-02,\n",
       "       4.01914954e-02, 3.14835105e-02, 2.63746500e-02, 1.67894651e-02,\n",
       "       1.37565388e-02, 8.45892482e-03, 6.95984895e-03, 6.91898584e-03,\n",
       "       4.74337114e-03, 4.08336959e-03, 3.37650293e-03, 3.04099660e-03,\n",
       "       1.89544706e-03, 1.81960528e-03, 1.71162394e-03, 1.31259030e-03,\n",
       "       1.27001072e-03, 1.23034183e-03, 1.21245324e-03, 1.05040924e-03,\n",
       "       8.16172487e-04, 6.95529262e-04, 6.31962272e-04, 3.78594429e-04,\n",
       "       3.27534749e-04, 2.94083619e-04, 1.97125028e-04, 1.52416555e-04,\n",
       "       1.36502662e-04, 1.15410894e-04, 1.11551875e-04, 8.49689538e-05,\n",
       "       6.18033332e-05, 4.39077059e-05, 4.26898582e-05, 3.12873844e-05,\n",
       "       1.96113788e-05, 1.48543069e-05, 1.16016257e-05, 1.06914683e-05,\n",
       "       8.96533668e-06, 8.00404253e-06, 6.08969621e-06, 4.80137647e-06,\n",
       "       4.24175365e-06, 3.38061931e-06, 2.94883298e-06, 2.35060860e-06,\n",
       "       1.44058631e-06, 8.89993752e-07, 3.42802397e-07, 2.51113978e-07,\n",
       "       5.50364250e-08, 1.65950919e-08, 1.15175163e-10, 3.49018485e-15,\n",
       "       3.24242039e-33, 3.24242039e-33])"
      ]
     },
     "execution_count": 24,
     "metadata": {},
     "output_type": "execute_result"
    }
   ],
   "source": [
    "initial_z_pca = PCA()\n",
    "initial_z_pca.fit(no_outliers_z_x)\n",
    "initial_z_pca.explained_variance_ratio_"
   ]
  },
  {
   "cell_type": "code",
   "execution_count": 25,
   "metadata": {},
   "outputs": [
    {
     "data": {
      "image/png": "[encoded data removed]",
      "text/plain": [
       "<Figure size 600x400 with 1 Axes>"
      ]
     },
     "metadata": {},
     "output_type": "display_data"
    },
    {
     "name": "stdout",
     "output_type": "stream",
     "text": [
      "Z-score achieves more than 0.95% of the variance for 10 dimensions\n"
     ]
    }
   ],
   "source": [
    "# source: https://github.com/ageron/handson-ml2/blob/master/08_dimensionality_reduction.ipynb\n",
    "\n",
    "cumsum = np.cumsum(initial_z_pca.explained_variance_ratio_)\n",
    "d = np.argmax(cumsum >= reduction_factor) + 1\n",
    "\n",
    "plt.figure(figsize=(6,4))\n",
    "plt.plot(cumsum, linewidth=3)\n",
    "plt.axis([0, 62, 0, 1.1])\n",
    "plt.xlabel(\"Dimensions\")\n",
    "plt.ylabel(\"Explained Variance\")\n",
    "plt.plot([d, d], [0, reduction_factor], \"k:\")\n",
    "plt.plot([0, d], [reduction_factor, reduction_factor], \"k:\")\n",
    "plt.grid(True)\n",
    "plt.title(\"Explained Variance with Z-score\")\n",
    "plt.show()\n",
    "print(f\"Z-score achieves more than {reduction_factor}% of the variance for {d} dimensions\")"
   ]
  },
  {
   "cell_type": "markdown",
   "metadata": {},
   "source": [
    "The graph shows the so-called *elbow*, which shows for how many dimensions the variance growth slows down."
   ]
  },
  {
   "cell_type": "code",
   "execution_count": 26,
   "metadata": {},
   "outputs": [
    {
     "data": {
      "text/plain": [
       "array([1.83180031e-01, 1.00471081e-01, 9.26033993e-02, 9.03460663e-02,\n",
       "       8.28244580e-02, 8.16151907e-02, 7.91088316e-02, 6.37297301e-02,\n",
       "       4.83486834e-02, 3.78709887e-02, 3.46194979e-02, 3.20766702e-02,\n",
       "       2.14346566e-02, 1.65037973e-02, 1.24497625e-02, 7.30054211e-03,\n",
       "       6.90913431e-03, 3.43236184e-03, 1.75147305e-03, 7.84419547e-04,\n",
       "       7.04950036e-04, 4.25964505e-04, 3.26829231e-04, 3.13367856e-04,\n",
       "       2.14627113e-04, 1.65557233e-04, 1.50267958e-04, 8.25631056e-05,\n",
       "       6.97789407e-05, 5.37885816e-05, 4.40017381e-05, 2.53058830e-05,\n",
       "       1.26652332e-05, 1.16918728e-05, 7.56889985e-06, 7.53543754e-06,\n",
       "       5.23636396e-06, 4.63744758e-06, 2.39012685e-06, 2.32415932e-06,\n",
       "       2.00136940e-06, 1.72468589e-06, 1.47263433e-06, 8.71954551e-07,\n",
       "       6.00064609e-07, 4.84814631e-07, 3.86960548e-07, 2.42827964e-07,\n",
       "       1.13914607e-07, 9.41883512e-08, 6.66963625e-08, 3.53279342e-08,\n",
       "       3.11475724e-08, 2.21726544e-08, 1.33752216e-08, 6.05001054e-09,\n",
       "       3.74688439e-09, 3.53066620e-10, 4.59337685e-11, 9.06538797e-16,\n",
       "       1.28941320e-33, 1.28941320e-33])"
      ]
     },
     "execution_count": 26,
     "metadata": {},
     "output_type": "execute_result"
    }
   ],
   "source": [
    "initial_if_pca = PCA()\n",
    "initial_if_pca.fit(no_outliers_if_x)\n",
    "initial_if_pca.explained_variance_ratio_"
   ]
  },
  {
   "cell_type": "code",
   "execution_count": 27,
   "metadata": {},
   "outputs": [
    {
     "data": {
      "image/png": "[encoded data removed]",
      "text/plain": [
       "<Figure size 600x400 with 1 Axes>"
      ]
     },
     "metadata": {},
     "output_type": "display_data"
    },
    {
     "name": "stdout",
     "output_type": "stream",
     "text": [
      "Isolation Forest achieves more than 0.95% variance for 14 dimensions\n"
     ]
    }
   ],
   "source": [
    "# source: https://github.com/ageron/handson-ml2/blob/master/08_dimensionality_reduction.ipynb\n",
    "\n",
    "cumsum = np.cumsum(initial_if_pca.explained_variance_ratio_)\n",
    "d = np.argmax(cumsum >= reduction_factor) + 1\n",
    "\n",
    "plt.figure(figsize=(6,4))\n",
    "plt.plot(cumsum, linewidth=3)\n",
    "plt.axis([0, 62, 0, 1.1])\n",
    "plt.xlabel(\"Dimensions\")\n",
    "plt.ylabel(\"Explained Variance\")\n",
    "plt.plot([d, d], [0, reduction_factor], \"k:\")\n",
    "plt.plot([0, d], [reduction_factor, reduction_factor], \"k:\")\n",
    "plt.grid(True)\n",
    "plt.title(\"Explained Variance for PCA with Isolation Forest\")\n",
    "plt.show()\n",
    "print(f\"Isolation Forest achieves more than {reduction_factor}% variance for {d} dimensions\")"
   ]
  },
  {
   "cell_type": "code",
   "execution_count": 28,
   "metadata": {},
   "outputs": [],
   "source": [
    "z_pca = PCA(n_components=reduction_factor, random_state=42)\n",
    "X_df_z_pca = z_pca.fit_transform(no_outliers_z_x)"
   ]
  },
  {
   "cell_type": "code",
   "execution_count": 29,
   "metadata": {},
   "outputs": [],
   "source": [
    "if_pca = PCA(n_components=reduction_factor, random_state=42)\n",
    "X_df_if_pca = if_pca.fit_transform(no_outliers_if_x)"
   ]
  },
  {
   "cell_type": "markdown",
   "metadata": {},
   "source": [
    "It was decided to choose a value of 95% for the breakdown of the data because it corresponds to the inflection point of the variance growth trend."
   ]
  },
  {
   "cell_type": "code",
   "execution_count": 30,
   "metadata": {},
   "outputs": [
    {
     "data": {
      "text/plain": [
       "10"
      ]
     },
     "execution_count": 30,
     "metadata": {},
     "output_type": "execute_result"
    }
   ],
   "source": [
    "X_df_z_pca.shape[1]"
   ]
  },
  {
   "cell_type": "markdown",
   "metadata": {},
   "source": [
    "### Locally Linear Embedding Algorithm"
   ]
  },
  {
   "cell_type": "code",
   "execution_count": 31,
   "metadata": {},
   "outputs": [
    {
     "data": {
      "text/plain": [
       "(9292, 10)"
      ]
     },
     "execution_count": 31,
     "metadata": {},
     "output_type": "execute_result"
    }
   ],
   "source": [
    "z_lle = LocallyLinearEmbedding(n_neighbors=10, n_components=X_df_z_pca.shape[1],\n",
    "                               random_state=42)\n",
    "X_df_z_lle = z_lle.fit_transform(no_outliers_z_x)\n",
    "X_df_z_lle.shape"
   ]
  },
  {
   "cell_type": "markdown",
   "metadata": {},
   "source": [
    "As this method forces the number of components to be given, it was decided to choose the quantities obtained in the PCA method, as appropriate for the ‘type’ of data."
   ]
  },
  {
   "cell_type": "code",
   "execution_count": 32,
   "metadata": {},
   "outputs": [
    {
     "data": {
      "text/plain": [
       "(8913, 14)"
      ]
     },
     "execution_count": 32,
     "metadata": {},
     "output_type": "execute_result"
    }
   ],
   "source": [
    "if_lle = LocallyLinearEmbedding(n_neighbors=10, n_components=X_df_if_pca.shape[1],\n",
    "                                random_state=42)\n",
    "X_df_if_lle = if_lle.fit_transform(no_outliers_if_x)\n",
    "X_df_if_lle.shape"
   ]
  },
  {
   "cell_type": "markdown",
   "metadata": {},
   "source": [
    "## RandomForest training"
   ]
  },
  {
   "cell_type": "markdown",
   "metadata": {},
   "source": [
    "**The big classification problem in this data is the imbalance in labels. We definitely have more labels of 0. A way to combat this could be techniques such as over sampling or under sampling.**"
   ]
  },
  {
   "cell_type": "code",
   "execution_count": 33,
   "metadata": {},
   "outputs": [
    {
     "data": {
      "text/plain": [
       "class\n",
       "0        8940\n",
       "1         352\n",
       "Name: count, dtype: int64"
      ]
     },
     "execution_count": 33,
     "metadata": {},
     "output_type": "execute_result"
    }
   ],
   "source": [
    "no_outliers_z_y.value_counts()"
   ]
  },
  {
   "cell_type": "code",
   "execution_count": 34,
   "metadata": {},
   "outputs": [],
   "source": [
    "results = {}  # dictionary to store results"
   ]
  },
  {
   "cell_type": "markdown",
   "metadata": {},
   "source": [
    "### Z-score PCA"
   ]
  },
  {
   "cell_type": "code",
   "execution_count": 35,
   "metadata": {},
   "outputs": [
    {
     "name": "stdout",
     "output_type": "stream",
     "text": [
      "Accuracy dla Z-score PCA: 0.9623453469607316\n",
      "MCC dla Z-score PCA: 0.07970778426734455\n"
     ]
    },
    {
     "data": {
      "image/png": "[encoded data removed]",
      "text/plain": [
       "<Figure size 640x480 with 2 Axes>"
      ]
     },
     "metadata": {},
     "output_type": "display_data"
    }
   ],
   "source": [
    "X_train_z_pca, X_test_z_pca, y_train_z_pca, y_test_z_pca = train_test_split(X_df_z_pca, no_outliers_z_y, test_size=0.2,\n",
    "                                                                            random_state=42, stratify=no_outliers_z_y)\n",
    "\n",
    "rfc = RandomForestClassifier(random_state=42)\n",
    "rfc.fit(X_train_z_pca, y_train_z_pca.values.ravel())\n",
    "y_pred_z_pca = rfc.predict(X_test_z_pca)\n",
    "acc_z_pca = accuracy_score(y_test_z_pca, y_pred_z_pca)\n",
    "mcc_z_pca = abs(matthews_corrcoef(y_test_z_pca, y_pred_z_pca))\n",
    "cm_z_pca = confusion_matrix(y_test_z_pca, y_pred_z_pca)\n",
    "print(f\"Accuracy dla Z-score PCA: {acc_z_pca}\")\n",
    "print(f\"MCC dla Z-score PCA: {mcc_z_pca}\")\n",
    "ConfusionMatrixDisplay(cm_z_pca).plot()\n",
    "plt.title(\"Confusion Matrix for Z-score PCA\")\n",
    "plt.show()\n",
    "\n",
    "results['Z-score PCA'] = {'Accuracy': acc_z_pca, 'MCC': mcc_z_pca, 'Confusion Matrix': cm_z_pca}"
   ]
  },
  {
   "cell_type": "markdown",
   "metadata": {},
   "source": [
    "### Isolation Forest PCA"
   ]
  },
  {
   "cell_type": "code",
   "execution_count": 36,
   "metadata": {},
   "outputs": [
    {
     "name": "stdout",
     "output_type": "stream",
     "text": [
      "Accuracy for Isolation Forest PCA: 0.9584969153112731\n",
      "MCC for Isolation Forest PCA: 0.012405272221550759\n"
     ]
    },
    {
     "data": {
      "image/png": "[encoded data removed]",
      "text/plain": [
       "<Figure size 640x480 with 2 Axes>"
      ]
     },
     "metadata": {},
     "output_type": "display_data"
    }
   ],
   "source": [
    "X_train_if_pca, X_test_if_pca, y_train_if_pca, y_test_if_pca = train_test_split(X_df_if_pca, no_outliers_if_y, test_size=0.2,\n",
    "                                                                                random_state=42, stratify=no_outliers_if_y)\n",
    "\n",
    "rfc = RandomForestClassifier(random_state=42)\n",
    "rfc.fit(X_train_if_pca, y_train_if_pca.values.ravel())\n",
    "y_pred_if_pca = rfc.predict(X_test_if_pca)\n",
    "acc_if_pca = accuracy_score(y_test_if_pca, y_pred_if_pca)\n",
    "mcc_if_pca = abs(matthews_corrcoef(y_test_if_pca, y_pred_if_pca))\n",
    "cm_if_pca = confusion_matrix(y_test_if_pca, y_pred_if_pca)\n",
    "print(f\"Accuracy for Isolation Forest PCA: {acc_if_pca}\")\n",
    "print(f\"MCC for Isolation Forest PCA: {abs(mcc_if_pca)}\")\n",
    "ConfusionMatrixDisplay(cm_if_pca).plot()\n",
    "plt.title(\"Confusion Matrix for Isolation Forest PCA\")\n",
    "plt.show()\n",
    "\n",
    "results['Isolation Forest PCA'] = {'Accuracy': acc_if_pca, 'MCC': mcc_if_pca, 'Confusion Matrix': cm_if_pca}"
   ]
  },
  {
   "cell_type": "markdown",
   "metadata": {},
   "source": [
    "### Z-Score LLE"
   ]
  },
  {
   "cell_type": "code",
   "execution_count": 37,
   "metadata": {},
   "outputs": [
    {
     "name": "stdout",
     "output_type": "stream",
     "text": [
      "Accuracy for Z-Score LLE: 0.9623453469607316\n",
      "MCC for Z-Score LLE: 0.07970778426734455\n"
     ]
    },
    {
     "data": {
      "image/png": "[encoded data removed]",
      "text/plain": [
       "<Figure size 640x480 with 2 Axes>"
      ]
     },
     "metadata": {},
     "output_type": "display_data"
    }
   ],
   "source": [
    "X_train_z_lle, X_test_z_lle, y_train_z_lle, y_test_z_lle = train_test_split(X_df_z_lle, no_outliers_z_y, test_size=0.2,\n",
    "                                                                            random_state=42, stratify=no_outliers_z_y)\n",
    "\n",
    "rfc = RandomForestClassifier(random_state=42)\n",
    "rfc.fit(X_train_z_lle, y_train_z_lle.values.ravel())\n",
    "y_pred_z_lle = rfc.predict(X_test_z_lle)\n",
    "acc_z_lle = accuracy_score(y_test_z_lle, y_pred_z_lle)\n",
    "mcc_z_lle = abs(matthews_corrcoef(y_test_z_lle, y_pred_z_lle))\n",
    "cm_z_lle = confusion_matrix(y_test_z_lle, y_pred_z_lle)\n",
    "print(f\"Accuracy for Z-Score LLE: {acc_z_lle}\")\n",
    "print(f\"MCC for Z-Score LLE: {mcc_z_lle}\")\n",
    "ConfusionMatrixDisplay(cm_z_lle).plot()\n",
    "plt.title(\"Confusion Matrix for Z-Score LLE\")\n",
    "plt.show()\n",
    "\n",
    "results['Z-score LLE'] = {'Accuracy': acc_z_lle, 'MCC': mcc_z_lle, 'Confusion Matrix': cm_z_lle}"
   ]
  },
  {
   "cell_type": "markdown",
   "metadata": {},
   "source": [
    "### Isolation Forest LLE"
   ]
  },
  {
   "cell_type": "code",
   "execution_count": 38,
   "metadata": {},
   "outputs": [
    {
     "name": "stdout",
     "output_type": "stream",
     "text": [
      "Accuracy for Isolation Forest LLE: 0.9579360628154795\n",
      "MCC for Isolation Forest LLE: 0.013265529031339186\n"
     ]
    },
    {
     "data": {
      "image/png": "[encoded data removed]",
      "text/plain": [
       "<Figure size 640x480 with 2 Axes>"
      ]
     },
     "metadata": {},
     "output_type": "display_data"
    }
   ],
   "source": [
    "X_train_if_lle, X_test_if_lle, y_train_if_lle, y_test_if_lle = train_test_split(X_df_if_lle, no_outliers_if_y, test_size=0.2,\n",
    "                                                                                random_state=42, stratify=no_outliers_if_y)\n",
    "\n",
    "rfc = RandomForestClassifier(random_state=42)\n",
    "rfc.fit(X_train_if_lle, y_train_if_lle.values.ravel())\n",
    "y_pred_if_lle = rfc.predict(X_test_if_lle)\n",
    "acc_if_lle = accuracy_score(y_test_if_lle, y_pred_if_lle)\n",
    "mcc_if_lle = abs(matthews_corrcoef(y_test_if_lle, y_pred_if_lle))\n",
    "cm_if_lle = confusion_matrix(y_test_if_lle, y_pred_if_lle)\n",
    "print(f\"Accuracy for Isolation Forest LLE: {acc_if_lle}\")\n",
    "print(f\"MCC for Isolation Forest LLE: {mcc_if_lle}\")\n",
    "ConfusionMatrixDisplay(cm_if_lle).plot()\n",
    "plt.title(\"Confusion Matrix for Isolation Forest LLE\")\n",
    "plt.show()\n",
    "\n",
    "results['Isolation Forest LLE'] = {'Accuracy': acc_if_lle, 'MCC': mcc_if_lle, 'Confusion Matrix': cm_if_lle}"
   ]
  },
  {
   "cell_type": "markdown",
   "metadata": {},
   "source": [
    "### Data not fully processed"
   ]
  },
  {
   "cell_type": "markdown",
   "metadata": {},
   "source": [
    "In order to ultimately compare and be able to look at the effectiveness of each method used, models will also be learned for the data from the ‘intermediate’ stages."
   ]
  },
  {
   "cell_type": "code",
   "execution_count": 39,
   "metadata": {},
   "outputs": [],
   "source": [
    "def train_rfc(X_df_tmp, y_df_tmp):\n",
    "    X_train_tmp, X_test_tmp, y_train_tmp, y_test_tmp = train_test_split(X_df_tmp, y_df_tmp, test_size=0.2,\n",
    "                                                                        random_state=42, stratify=y_df_tmp)\n",
    "\n",
    "    rfc = RandomForestClassifier(random_state=42)\n",
    "    rfc.fit(X_train_tmp, y_train_tmp.values.ravel())\n",
    "    y_pred_tmp= rfc.predict(X_test_tmp)\n",
    "    acc_tmp = accuracy_score(y_test_tmp, y_pred_tmp)\n",
    "    mcc_tmp = abs(matthews_corrcoef(y_test_tmp, y_pred_tmp))\n",
    "    cm_tmp = confusion_matrix(y_test_tmp, y_pred_tmp)\n",
    "\n",
    "    return {'Accuracy': acc_tmp, 'MCC': mcc_tmp, 'Confusion Matrix': cm_tmp}"
   ]
  },
  {
   "cell_type": "code",
   "execution_count": 40,
   "metadata": {},
   "outputs": [],
   "source": [
    "# Standardized results\n",
    "results['Standardized'] = train_rfc(df_scaled, y_df)"
   ]
  },
  {
   "cell_type": "code",
   "execution_count": 41,
   "metadata": {},
   "outputs": [],
   "source": [
    "# Z-score results\n",
    "results['Z-score'] = train_rfc(no_outliers_z_x, no_outliers_z_y)"
   ]
  },
  {
   "cell_type": "code",
   "execution_count": 42,
   "metadata": {},
   "outputs": [],
   "source": [
    "# Isolation Forest results\n",
    "results['Isolation Forest'] = train_rfc(no_outliers_if_x, no_outliers_if_y)"
   ]
  },
  {
   "cell_type": "code",
   "execution_count": 43,
   "metadata": {},
   "outputs": [],
   "source": [
    "# PCA results\n",
    "pca = PCA(n_components=0.9, random_state=42)\n",
    "X_df_pca = pca.fit_transform(df_scaled)\n",
    "results['PCA Standardized'] = train_rfc(X_df_pca, y_df)"
   ]
  },
  {
   "cell_type": "code",
   "execution_count": 44,
   "metadata": {},
   "outputs": [],
   "source": [
    "# LLE results\n",
    "lle = LocallyLinearEmbedding(n_neighbors=10, n_components=len(X_df_pca[0]), random_state=42)\n",
    "X_df_lle = lle.fit_transform(df_scaled)\n",
    "results['LLE Standardized'] = train_rfc(X_df_lle, y_df)"
   ]
  },
  {
   "cell_type": "markdown",
   "metadata": {},
   "source": [
    "## Comparison"
   ]
  },
  {
   "cell_type": "markdown",
   "metadata": {},
   "source": [
    "Due to the characteristics of the data, we will consider MCC as the most important measure of quality and therefore the final results will be sorted by its value."
   ]
  },
  {
   "cell_type": "code",
   "execution_count": 45,
   "metadata": {},
   "outputs": [
    {
     "data": {
      "text/html": [
       "<div>\n",
       "<style scoped>\n",
       "    .dataframe tbody tr th:only-of-type {\n",
       "        vertical-align: middle;\n",
       "    }\n",
       "\n",
       "    .dataframe tbody tr th {\n",
       "        vertical-align: top;\n",
       "    }\n",
       "\n",
       "    .dataframe thead th {\n",
       "        text-align: right;\n",
       "    }\n",
       "</style>\n",
       "<table border=\"1\" class=\"dataframe\">\n",
       "  <thead>\n",
       "    <tr style=\"text-align: right;\">\n",
       "      <th></th>\n",
       "      <th>Accuracy</th>\n",
       "      <th>MCC</th>\n",
       "      <th>Confusion Matrix</th>\n",
       "    </tr>\n",
       "  </thead>\n",
       "  <tbody>\n",
       "    <tr>\n",
       "      <th>Z-score</th>\n",
       "      <td>0.973642</td>\n",
       "      <td>0.545185</td>\n",
       "      <td>[[1785, 4], [45, 25]]</td>\n",
       "    </tr>\n",
       "    <tr>\n",
       "      <th>Isolation Forest</th>\n",
       "      <td>0.971957</td>\n",
       "      <td>0.496506</td>\n",
       "      <td>[[1715, 1], [49, 18]]</td>\n",
       "    </tr>\n",
       "    <tr>\n",
       "      <th>Standardized</th>\n",
       "      <td>0.970217</td>\n",
       "      <td>0.496251</td>\n",
       "      <td>[[1896, 8], [51, 26]]</td>\n",
       "    </tr>\n",
       "    <tr>\n",
       "      <th>Z-score PCA</th>\n",
       "      <td>0.962345</td>\n",
       "      <td>0.079708</td>\n",
       "      <td>[[1788, 1], [69, 1]]</td>\n",
       "    </tr>\n",
       "    <tr>\n",
       "      <th>Z-score LLE</th>\n",
       "      <td>0.962345</td>\n",
       "      <td>0.079708</td>\n",
       "      <td>[[1788, 1], [69, 1]]</td>\n",
       "    </tr>\n",
       "    <tr>\n",
       "      <th>Isolation Forest LLE</th>\n",
       "      <td>0.957936</td>\n",
       "      <td>0.013266</td>\n",
       "      <td>[[1708, 8], [67, 0]]</td>\n",
       "    </tr>\n",
       "    <tr>\n",
       "      <th>Isolation Forest PCA</th>\n",
       "      <td>0.958497</td>\n",
       "      <td>0.012405</td>\n",
       "      <td>[[1709, 7], [67, 0]]</td>\n",
       "    </tr>\n",
       "    <tr>\n",
       "      <th>PCA Standardized</th>\n",
       "      <td>0.958607</td>\n",
       "      <td>0.010116</td>\n",
       "      <td>[[1899, 5], [77, 0]]</td>\n",
       "    </tr>\n",
       "    <tr>\n",
       "      <th>LLE Standardized</th>\n",
       "      <td>0.958607</td>\n",
       "      <td>0.010116</td>\n",
       "      <td>[[1899, 5], [77, 0]]</td>\n",
       "    </tr>\n",
       "  </tbody>\n",
       "</table>\n",
       "</div>"
      ],
      "text/plain": [
       "                      Accuracy       MCC       Confusion Matrix\n",
       "Z-score               0.973642  0.545185  [[1785, 4], [45, 25]]\n",
       "Isolation Forest      0.971957  0.496506  [[1715, 1], [49, 18]]\n",
       "Standardized          0.970217  0.496251  [[1896, 8], [51, 26]]\n",
       "Z-score PCA           0.962345  0.079708   [[1788, 1], [69, 1]]\n",
       "Z-score LLE           0.962345  0.079708   [[1788, 1], [69, 1]]\n",
       "Isolation Forest LLE  0.957936  0.013266   [[1708, 8], [67, 0]]\n",
       "Isolation Forest PCA  0.958497  0.012405   [[1709, 7], [67, 0]]\n",
       "PCA Standardized      0.958607  0.010116   [[1899, 5], [77, 0]]\n",
       "LLE Standardized      0.958607  0.010116   [[1899, 5], [77, 0]]"
      ]
     },
     "metadata": {},
     "output_type": "display_data"
    }
   ],
   "source": [
    "display(pd.DataFrame(results).T.sort_values(by='MCC', ascending=False))"
   ]
  },
  {
   "cell_type": "code",
   "execution_count": 46,
   "metadata": {},
   "outputs": [
    {
     "data": {
      "image/png": "[encoded data removed]",
      "text/plain": [
       "<Figure size 1000x1000 with 10 Axes>"
      ]
     },
     "metadata": {},
     "output_type": "display_data"
    }
   ],
   "source": [
    "f, axes = plt.subplots(3, 3, figsize=(10, 10), sharey='row')\n",
    "for i, (key, values) in enumerate(results.items()):\n",
    "    disp = ConfusionMatrixDisplay(values['Confusion Matrix'])\n",
    "    disp.plot(ax=axes[i // 3, i % 3])\n",
    "    disp.ax_.set_title(key)\n",
    "    disp.im_.colorbar.remove()\n",
    "\n",
    "plt.subplots_adjust(wspace=0.30, hspace=0.08)\n",
    "\n",
    "f.suptitle(\"Confusion Matrices for different methods\", y=0.9)\n",
    "f.colorbar(disp.im_, ax=axes)\n",
    "plt.show()"
   ]
  },
  {
   "cell_type": "markdown",
   "metadata": {},
   "source": [
    "From the results, it can be seen that the dimensionality reduction methods significantly worsened the results, this may be blamed on the imbalance in the data and the blurring of the **decision boundary** with the removal of dimensions.\n",
    "\n",
    "The outlier removal methods resulted in improved results, of the two approaches used the *Z-Score* method was better.\n",
    "\n",
    "An MCC value above 0.5 is considered satisfactory. It all depends on the nature of the problem one wishes to focus on. Manipulation of the hyperparameters of the model itself and the data processing methods could improve the results.\n"
   ]
  },
  {
   "cell_type": "code",
   "execution_count": 47,
   "metadata": {},
   "outputs": [
    {
     "data": {
      "text/html": [
       "<div>\n",
       "<style scoped>\n",
       "    .dataframe tbody tr th:only-of-type {\n",
       "        vertical-align: middle;\n",
       "    }\n",
       "\n",
       "    .dataframe tbody tr th {\n",
       "        vertical-align: top;\n",
       "    }\n",
       "\n",
       "    .dataframe thead th {\n",
       "        text-align: right;\n",
       "    }\n",
       "</style>\n",
       "<table border=\"1\" class=\"dataframe\">\n",
       "  <thead>\n",
       "    <tr style=\"text-align: right;\">\n",
       "      <th></th>\n",
       "      <th>Weighted Z-score</th>\n",
       "    </tr>\n",
       "  </thead>\n",
       "  <tbody>\n",
       "    <tr>\n",
       "      <th>Accuracy</th>\n",
       "      <td>0.973642</td>\n",
       "    </tr>\n",
       "    <tr>\n",
       "      <th>MCC</th>\n",
       "      <td>0.542867</td>\n",
       "    </tr>\n",
       "    <tr>\n",
       "      <th>Confusion Matrix</th>\n",
       "      <td>[[1786, 3], [46, 24]]</td>\n",
       "    </tr>\n",
       "  </tbody>\n",
       "</table>\n",
       "</div>"
      ],
      "text/plain": [
       "                       Weighted Z-score\n",
       "Accuracy                       0.973642\n",
       "MCC                            0.542867\n",
       "Confusion Matrix  [[1786, 3], [46, 24]]"
      ]
     },
     "metadata": {},
     "output_type": "display_data"
    }
   ],
   "source": [
    "# The best score but with weighted classes\n",
    "X_train_tmp, X_test_tmp, y_train_tmp, y_test_tmp = train_test_split(no_outliers_z_x, no_outliers_z_y, test_size=0.2,\n",
    "                                                                    random_state=42, stratify=no_outliers_z_y)\n",
    "\n",
    "rfc = RandomForestClassifier(random_state=42, class_weight={0: 1, 1: 2})\n",
    "rfc.fit(X_train_tmp, y_train_tmp.values.ravel())\n",
    "y_pred_tmp= rfc.predict(X_test_tmp)\n",
    "acc_tmp = accuracy_score(y_test_tmp, y_pred_tmp)\n",
    "mcc_tmp = abs(matthews_corrcoef(y_test_tmp, y_pred_tmp))\n",
    "cm_tmp = confusion_matrix(y_test_tmp, y_pred_tmp)\n",
    "\n",
    "display(pd.DataFrame({\"Weighted Z-score\": {'Accuracy': acc_tmp, 'MCC': mcc_tmp, 'Confusion Matrix': cm_tmp}}))"
   ]
  },
  {
   "cell_type": "code",
   "execution_count": 48,
   "metadata": {},
   "outputs": [
    {
     "data": {
      "image/png": "[encoded data removed]",
      "text/plain": [
       "<Figure size 640x480 with 2 Axes>"
      ]
     },
     "metadata": {},
     "output_type": "display_data"
    }
   ],
   "source": [
    "ConfusionMatrixDisplay(cm_tmp).plot()\n",
    "plt.title(\"Confusion Matrix for Weighted Z-score\")\n",
    "plt.show()"
   ]
  }
 ],
 "metadata": {
  "kernelspec": {
   "display_name": "Python 3",
   "language": "python",
   "name": "python3"
  },
  "language_info": {
   "codemirror_mode": {
    "name": "ipython",
    "version": 3
   },
   "file_extension": ".py",
   "mimetype": "text/x-python",
   "name": "python",
   "nbconvert_exporter": "python",
   "pygments_lexer": "ipython3",
   "version": "3.10.10"
  }
 },
 "nbformat": 4,
 "nbformat_minor": 2
}
